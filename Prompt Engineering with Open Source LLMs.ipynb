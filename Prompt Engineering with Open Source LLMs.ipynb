{
 "cells": [
  {
   "cell_type": "markdown",
   "metadata": {
    "id": "B-bDqVn0PMf8"
   },
   "source": [
    "#Change the Runtime"
   ]
  },
  {
   "cell_type": "markdown",
   "metadata": {
    "id": "70pa2mqiPyKG"
   },
   "source": [
    "```Runtime -> Change Runtime Type -> Hardware Accelerator (T4) ```"
   ]
  },
  {
   "cell_type": "markdown",
   "metadata": {
    "id": "vg774fZLFrPV"
   },
   "source": [
    "#Install the Libraries"
   ]
  },
  {
   "cell_type": "code",
   "execution_count": null,
   "metadata": {
    "colab": {
     "base_uri": "https://localhost:8080/"
    },
    "id": "R4NK2x_9F6YN",
    "outputId": "e8dab89c-bc77-462b-c04d-1c8109908a6d"
   },
   "outputs": [
    {
     "name": "stdout",
     "output_type": "stream",
     "text": [
      "Requirement already satisfied: transformers in /usr/local/lib/python3.10/dist-packages (4.35.2)\n",
      "Requirement already satisfied: filelock in /usr/local/lib/python3.10/dist-packages (from transformers) (3.13.1)\n",
      "Requirement already satisfied: huggingface-hub<1.0,>=0.16.4 in /usr/local/lib/python3.10/dist-packages (from transformers) (0.19.4)\n",
      "Requirement already satisfied: numpy>=1.17 in /usr/local/lib/python3.10/dist-packages (from transformers) (1.23.5)\n",
      "Requirement already satisfied: packaging>=20.0 in /usr/local/lib/python3.10/dist-packages (from transformers) (23.2)\n",
      "Requirement already satisfied: pyyaml>=5.1 in /usr/local/lib/python3.10/dist-packages (from transformers) (6.0.1)\n",
      "Requirement already satisfied: regex!=2019.12.17 in /usr/local/lib/python3.10/dist-packages (from transformers) (2023.6.3)\n",
      "Requirement already satisfied: requests in /usr/local/lib/python3.10/dist-packages (from transformers) (2.31.0)\n",
      "Requirement already satisfied: tokenizers<0.19,>=0.14 in /usr/local/lib/python3.10/dist-packages (from transformers) (0.15.0)\n",
      "Requirement already satisfied: safetensors>=0.3.1 in /usr/local/lib/python3.10/dist-packages (from transformers) (0.4.0)\n",
      "Requirement already satisfied: tqdm>=4.27 in /usr/local/lib/python3.10/dist-packages (from transformers) (4.66.1)\n",
      "Requirement already satisfied: fsspec>=2023.5.0 in /usr/local/lib/python3.10/dist-packages (from huggingface-hub<1.0,>=0.16.4->transformers) (2023.6.0)\n",
      "Requirement already satisfied: typing-extensions>=3.7.4.3 in /usr/local/lib/python3.10/dist-packages (from huggingface-hub<1.0,>=0.16.4->transformers) (4.5.0)\n",
      "Requirement already satisfied: charset-normalizer<4,>=2 in /usr/local/lib/python3.10/dist-packages (from requests->transformers) (3.3.2)\n",
      "Requirement already satisfied: idna<4,>=2.5 in /usr/local/lib/python3.10/dist-packages (from requests->transformers) (3.4)\n",
      "Requirement already satisfied: urllib3<3,>=1.21.1 in /usr/local/lib/python3.10/dist-packages (from requests->transformers) (2.0.7)\n",
      "Requirement already satisfied: certifi>=2017.4.17 in /usr/local/lib/python3.10/dist-packages (from requests->transformers) (2023.7.22)\n"
     ]
    }
   ],
   "source": [
    "!pip install transformers"
   ]
  },
  {
   "cell_type": "code",
   "execution_count": null,
   "metadata": {
    "colab": {
     "base_uri": "https://localhost:8080/"
    },
    "id": "5JUUuvGdBFJb",
    "outputId": "1a8c01ce-fe63-46bd-f196-091ef86d9894"
   },
   "outputs": [
    {
     "name": "stdout",
     "output_type": "stream",
     "text": [
      "Requirement already satisfied: accelerate in /usr/local/lib/python3.10/dist-packages (0.24.1)\n",
      "Requirement already satisfied: numpy>=1.17 in /usr/local/lib/python3.10/dist-packages (from accelerate) (1.23.5)\n",
      "Requirement already satisfied: packaging>=20.0 in /usr/local/lib/python3.10/dist-packages (from accelerate) (23.2)\n",
      "Requirement already satisfied: psutil in /usr/local/lib/python3.10/dist-packages (from accelerate) (5.9.5)\n",
      "Requirement already satisfied: pyyaml in /usr/local/lib/python3.10/dist-packages (from accelerate) (6.0.1)\n",
      "Requirement already satisfied: torch>=1.10.0 in /usr/local/lib/python3.10/dist-packages (from accelerate) (2.1.0+cu118)\n",
      "Requirement already satisfied: huggingface-hub in /usr/local/lib/python3.10/dist-packages (from accelerate) (0.19.4)\n",
      "Requirement already satisfied: filelock in /usr/local/lib/python3.10/dist-packages (from torch>=1.10.0->accelerate) (3.13.1)\n",
      "Requirement already satisfied: typing-extensions in /usr/local/lib/python3.10/dist-packages (from torch>=1.10.0->accelerate) (4.5.0)\n",
      "Requirement already satisfied: sympy in /usr/local/lib/python3.10/dist-packages (from torch>=1.10.0->accelerate) (1.12)\n",
      "Requirement already satisfied: networkx in /usr/local/lib/python3.10/dist-packages (from torch>=1.10.0->accelerate) (3.2.1)\n",
      "Requirement already satisfied: jinja2 in /usr/local/lib/python3.10/dist-packages (from torch>=1.10.0->accelerate) (3.1.2)\n",
      "Requirement already satisfied: fsspec in /usr/local/lib/python3.10/dist-packages (from torch>=1.10.0->accelerate) (2023.6.0)\n",
      "Requirement already satisfied: triton==2.1.0 in /usr/local/lib/python3.10/dist-packages (from torch>=1.10.0->accelerate) (2.1.0)\n",
      "Requirement already satisfied: requests in /usr/local/lib/python3.10/dist-packages (from huggingface-hub->accelerate) (2.31.0)\n",
      "Requirement already satisfied: tqdm>=4.42.1 in /usr/local/lib/python3.10/dist-packages (from huggingface-hub->accelerate) (4.66.1)\n",
      "Requirement already satisfied: MarkupSafe>=2.0 in /usr/local/lib/python3.10/dist-packages (from jinja2->torch>=1.10.0->accelerate) (2.1.3)\n",
      "Requirement already satisfied: charset-normalizer<4,>=2 in /usr/local/lib/python3.10/dist-packages (from requests->huggingface-hub->accelerate) (3.3.2)\n",
      "Requirement already satisfied: idna<4,>=2.5 in /usr/local/lib/python3.10/dist-packages (from requests->huggingface-hub->accelerate) (3.4)\n",
      "Requirement already satisfied: urllib3<3,>=1.21.1 in /usr/local/lib/python3.10/dist-packages (from requests->huggingface-hub->accelerate) (2.0.7)\n",
      "Requirement already satisfied: certifi>=2017.4.17 in /usr/local/lib/python3.10/dist-packages (from requests->huggingface-hub->accelerate) (2023.7.22)\n",
      "Requirement already satisfied: mpmath>=0.19 in /usr/local/lib/python3.10/dist-packages (from sympy->torch>=1.10.0->accelerate) (1.3.0)\n"
     ]
    }
   ],
   "source": [
    "!pip install accelerate"
   ]
  },
  {
   "cell_type": "markdown",
   "metadata": {
    "id": "0_coy1Z-HUy0"
   },
   "source": [
    "# Access the Llama 2 model\n",
    "\n",
    "1. Request for the access: https://ai.meta.com/resources/models-and-libraries/llama-downloads/\n",
    "\n",
    "\n",
    "2. This is a form to enable access to Llama 2 on Hugging Face after you have been granted access from Meta: https://huggingface.co/meta-llama/Llama-2-7b-hf\n",
    "\n",
    "\n"
   ]
  },
  {
   "cell_type": "markdown",
   "metadata": {
    "id": "DppFSexttcoW"
   },
   "source": [
    "#Get the HuggingFace Token\n",
    "\n",
    "1. Go to https://huggingface.co/settings/tokens\n",
    "2. Click new token and generate it"
   ]
  },
  {
   "cell_type": "code",
   "execution_count": null,
   "metadata": {
    "colab": {
     "base_uri": "https://localhost:8080/"
    },
    "id": "E4uiGjuk-Y6x",
    "outputId": "4dd65d23-371f-4d11-f35c-a1e983ee61df"
   },
   "outputs": [
    {
     "name": "stdout",
     "output_type": "stream",
     "text": [
      "Token will not been saved to git credential helper. Pass `add_to_git_credential=True` if you want to set the git credential as well.\n",
      "Token is valid (permission: read).\n",
      "Your token has been saved to /root/.cache/huggingface/token\n",
      "Login successful\n"
     ]
    }
   ],
   "source": [
    "from huggingface_hub import login\n",
    "login(\"YOUR HUGGING FACE ACCOUNT TOKEN\")"
   ]
  },
  {
   "cell_type": "markdown",
   "metadata": {
    "id": "kX9BatmjGEZx"
   },
   "source": [
    "\n",
    "# Loading Llama 2 7B"
   ]
  },
  {
   "cell_type": "code",
   "execution_count": null,
   "metadata": {
    "id": "bx6P_YyPvrlA"
   },
   "outputs": [],
   "source": [
    "from transformers import AutoTokenizer\n",
    "import transformers\n",
    "import torch\n",
    "\n",
    "#specify the model you want to use\n",
    "model = \"meta-llama/Llama-2-7b-chat-hf\""
   ]
  },
  {
   "cell_type": "code",
   "execution_count": null,
   "metadata": {
    "id": "g6-vKyADSCi2"
   },
   "outputs": [],
   "source": [
    "#load the pretrained tokenizer\n",
    "tokenizer = AutoTokenizer.from_pretrained(model)"
   ]
  },
  {
   "cell_type": "code",
   "execution_count": null,
   "metadata": {
    "colab": {
     "base_uri": "https://localhost:8080/",
     "height": 49,
     "referenced_widgets": [
      "1aa04e5ed50c41c7a8145160357fb708",
      "168ae91d9c154f0a9fb97b043b343546",
      "25bb6fe9cda4426eb6465457fbd00798",
      "3b0bf1c2c4c54c049e22d82e4012ccb9",
      "0c67dd52db0248e1a9dc5e77bda9148a",
      "b05d8e23fb0a4b969061a2867f4af555",
      "4a57270a58544f54a01bbea95b21aee4",
      "c5a282ed338e422c88e55908ffa2c4df",
      "4625119187b04d7da489f31069e2a5d3",
      "d4ac0f407b094c948c8712ac5478bc63",
      "bd2a55dfc0aa4bdba576c26f9c840bbd"
     ]
    },
    "id": "O10GT8UrSCr0",
    "outputId": "2f6e1547-3f05-4ad2-f431-c172ecd52147"
   },
   "outputs": [
    {
     "data": {
      "application/vnd.jupyter.widget-view+json": {
       "model_id": "1aa04e5ed50c41c7a8145160357fb708",
       "version_major": 2,
       "version_minor": 0
      },
      "text/plain": [
       "Loading checkpoint shards:   0%|          | 0/2 [00:00<?, ?it/s]"
      ]
     },
     "metadata": {},
     "output_type": "display_data"
    }
   ],
   "source": [
    "#make it ready for text generation\n",
    "pipeline = transformers.pipeline(\n",
    "    \"text-generation\",\n",
    "    model=model,\n",
    "    torch_dtype=torch.float16,\n",
    "    device_map=\"auto\",\n",
    ")"
   ]
  },
  {
   "cell_type": "markdown",
   "metadata": {
    "id": "-TQXAkYsGMWS"
   },
   "source": [
    "Define the function that accepts the prompt and returns the response"
   ]
  },
  {
   "cell_type": "code",
   "execution_count": null,
   "metadata": {
    "id": "f7WJPxItvrnl"
   },
   "outputs": [],
   "source": [
    "def get_response(prompt):\n",
    "\n",
    "  sequences = pipeline(prompt,\n",
    "      do_sample=True,\n",
    "      return_full_text=False,\n",
    "      top_k=10,\n",
    "      num_return_sequences=1,\n",
    "      eos_token_id=tokenizer.eos_token_id,\n",
    "      max_length=1000,\n",
    "  )\n",
    "\n",
    "  return sequences[0]['generated_text']"
   ]
  },
  {
   "cell_type": "markdown",
   "metadata": {
    "id": "SzxeHyHPGzk2"
   },
   "source": [
    "#Prompting Llama 2"
   ]
  },
  {
   "cell_type": "markdown",
   "metadata": {
    "id": "hH2KsPZQGUTu"
   },
   "source": [
    "Prompt Template\n",
    "\n",
    "```\n",
    "<s>[INST] <<SYS>>\n",
    "{{ system_prompt }}\n",
    "<</SYS>>\n",
    "\n",
    "{{ user_message }} [/INST] {{model_answer}} </s>\n",
    "\n",
    "```"
   ]
  },
  {
   "cell_type": "code",
   "execution_count": null,
   "metadata": {
    "id": "3oWiLVjh8nnZ"
   },
   "outputs": [],
   "source": [
    "prompt = '''\n",
    "\n",
    "<s>[INST] <<SYS>>\n",
    "You are a helpful, respectful and honest assistant. Always answer as helpfully as possible, while being safe.\n",
    "Your answers should not include any harmful, unethical, racist, sexist, toxic, dangerous, or illegal content.\n",
    "Please ensure that your responses are socially unbiased and positive in nature.\n",
    "If a question does not make any sense, or is not factually coherent, explain why instead of answering something not correct.\n",
    "If you don't know the answer to a question, please don't share false information.\n",
    "<</SYS>>\n",
    "I liked friends and money heist. Recommend me the similar shows to watch.\n",
    "[/INST]\n",
    "'''"
   ]
  },
  {
   "cell_type": "code",
   "execution_count": null,
   "metadata": {
    "colab": {
     "base_uri": "https://localhost:8080/"
    },
    "id": "u3IuTl8MTha8",
    "outputId": "f5c7dba4-389a-4664-a365-762588d77829"
   },
   "outputs": [
    {
     "name": "stdout",
     "output_type": "stream",
     "text": [
      "I'm glad you enjoyed \"Friends\" and \"Money Heist\"! Here are some similar shows you might enjoy:\n",
      "\n",
      "1. \"The Office\" (US) - A classic mockumentary-style sitcom that follows the daily lives of office workers in Scranton, Pennsylvania.\n",
      "2. \"Parks and Recreation\" - A comedy series that follows the employees of the Parks and Recreation department of the fictional town of Pawnee, Indiana.\n",
      "3. \"Brooklyn Nine-Nine\" - A police sitcom that follows the detectives of the 99th precinct of the NYPD.\n",
      "4. \"The Good Place\" - A fantasy-comedy series that follows Eleanor Shellstrop as she navigates the afterlife.\n",
      "5. \"Schitt's Creek\" - A sitcom that follows a wealthy family who loses their fortune and is forced to move to a small town they bought as a joke.\n",
      "6. \"Killing Eve\" - A spy thriller series that follows Eve Polastri, a bored MI6 agent, and Villanelle, a talented assassin, as they engage in a cat-and-mouse game.\n",
      "7. \"Fleabag\" - A comedy-drama series that follows the life of a dry-witted, sexually liberated woman navigating modern life in London.\n",
      "8. \"The Marvelous Mrs. Maisel\" - A period comedy-drama series that follows a housewife-turned-comedian in the late 1950s.\n",
      "9. \"Kim's Convenience\" - A Canadian sitcom that follows the lives of a Korean-Canadian family who run a convenience store in Toronto.\n",
      "10. \"Fargo\" - A crime drama series that follows a different character each season as they become embroiled in a crime in the fictional town of Bemidji, Minnesota.\n",
      "\n",
      "I hope you find these recommendations helpful and enjoyable! Let me know if you have any other questions.\n"
     ]
    }
   ],
   "source": [
    "print(get_response(prompt))"
   ]
  },
  {
   "cell_type": "markdown",
   "metadata": {
    "id": "Bzju_Pk96bmn"
   },
   "source": [
    "#Case Study - Machine Translation on Product Reviews Data"
   ]
  },
  {
   "cell_type": "markdown",
   "metadata": {
    "id": "ohnEW-rb7IkC"
   },
   "source": [
    "Prompt 1"
   ]
  },
  {
   "cell_type": "code",
   "execution_count": null,
   "metadata": {
    "colab": {
     "base_uri": "https://localhost:8080/"
    },
    "id": "MJPhQvtYNaO7",
    "outputId": "53669bab-a4cb-43fe-b0f9-f8b217c0773d"
   },
   "outputs": [
    {
     "name": "stdout",
     "output_type": "stream",
     "text": [
      "Of course! I'd be happy to help you translate \"Je suis extrêmement satisfait de mon expérience avec l'iPhone\" from French to English. Here's the translation:\n",
      "\n",
      "\"I am extremely satisfied with my experience with the iPhone.\"\n",
      "\n",
      "I hope that helps! Let me know if you have any other questions.\n"
     ]
    }
   ],
   "source": [
    "prompt = '''\n",
    "\n",
    "<s>[INST] <<SYS>>\n",
    "You are a helpful, respectful and honest assistant. Always answer as helpfully as possible, while being safe.\n",
    "Your answers should not include any harmful, unethical, racist, sexist, toxic, dangerous, or illegal content.\n",
    "Please ensure that your responses are socially unbiased and positive in nature.\n",
    "If a question does not make any sense, or is not factually coherent, explain why instead of answering something not correct.\n",
    "If you don't know the answer to a question, please don't share false information.\n",
    "<</SYS>>\n",
    "Translate the following text from french to english: Je suis extrêmement satisfait de mon expérience avec l'iPhone.\n",
    "[/INST]\n",
    "\n",
    "'''\n",
    "print(get_response(prompt))"
   ]
  },
  {
   "cell_type": "markdown",
   "metadata": {
    "id": "PHzfQunG7KoI"
   },
   "source": [
    "Prompt 2: Build a translator to convert any language from one to other"
   ]
  },
  {
   "cell_type": "code",
   "execution_count": null,
   "metadata": {
    "id": "lwbI_Xsy0V_U"
   },
   "outputs": [],
   "source": [
    "reviews=['La pantalla es increíble y la duración de la batería es impresionante',\n",
    "         \"Design élégant et performances exceptionnelles, l'iPhone est une merveille technologique.\",\n",
    "         \"手机速度快，电池耐用，非常满意的购物体验。\"]"
   ]
  },
  {
   "cell_type": "code",
   "execution_count": null,
   "metadata": {
    "colab": {
     "base_uri": "https://localhost:8080/"
    },
    "id": "brhgg-P1uQD7",
    "outputId": "d6c38cff-c6db-4837-ecf5-937429da4f33"
   },
   "outputs": [
    {
     "name": "stdout",
     "output_type": "stream",
     "text": [
      "Review: La pantalla es increíble y la duración de la batería es impresionante\n",
      "Output:  Sure, I'd be happy to help! The text you provided in delimiters <> can be translated to English as:\n",
      "\n",
      "\"The screen is incredible and the battery life is impressive.\"\n",
      "\n",
      "I hope this helps! Let me know if you have any other questions.\n",
      "\n",
      "\n",
      "Review: Design élégant et performances exceptionnelles, l'iPhone est une merveille technologique.\n",
      "Output:  Sure, I'd be happy to help you with that! Here's the translation of \"Design élégant et performances exceptionnelles, l'iPhone est une merveille technologique.\" into English:\n",
      "\n",
      "\"Elegant design and exceptional performance, the iPhone is a technological marvel.\"\n",
      "\n",
      "I hope that helps! Let me know if you have any other questions.\n",
      "\n",
      "\n",
      "Review: 手机速度快，电池耐用，非常满意的购物体验。\n",
      "Output:  Sure, I'd be happy to help! The translation of \"手机速度快，电池耐用，非常满意的购物体验\" into English is:\n",
      "\n",
      "\"The phone is fast, the battery is durable, and I have a very satisfying shopping experience.\"\n",
      "\n",
      "I hope this helps! Let me know if you have any other questions.\n",
      "\n",
      "\n"
     ]
    }
   ],
   "source": [
    "for review in reviews:\n",
    "\n",
    "  prompt = f'''\n",
    "  <s>[INST] <<SYS>>\n",
    "  You are a helpful, respectful and honest assistant. Always answer as helpfully as possible, while being safe.  Your answers should not include any harmful, unethical, racist, sexist, toxic, dangerous, or illegal content. Please ensure that your responses are socially unbiased and positive in nature.\n",
    "\n",
    "  If a question does not make any sense, or is not factually coherent, explain why instead of answering something not correct. If you don't know the answer to a question, please don't share false information.\n",
    "  <</SYS>>\n",
    "  Translate the text given in delimiters <> into english: <{review}>\n",
    "  [/INST]\n",
    "  '''\n",
    "\n",
    "  print(\"Review:\", review)\n",
    "  print(\"Output:\",get_response(prompt))\n",
    "  print(\"\\n\")"
   ]
  },
  {
   "cell_type": "markdown",
   "metadata": {
    "id": "s2xEcznv7N9D"
   },
   "source": [
    "Prompt 3"
   ]
  },
  {
   "cell_type": "code",
   "execution_count": null,
   "metadata": {
    "colab": {
     "base_uri": "https://localhost:8080/"
    },
    "id": "E4meynd2WU48",
    "outputId": "443c9c37-3033-43c6-a580-5a62dab010fa"
   },
   "outputs": [
    {
     "name": "stdout",
     "output_type": "stream",
     "text": [
      "In Spanish:\n",
      "\"Un bijou de tecnología\" can be translated to \"A jewel of technology\" or \"Un pequeño tesoro de tecnología\".\n",
      "\n",
      "In German:\n",
      "\"Un bijou de technologie\" can be translated to \"Ein Schatz der Technologie\" or \"Ein kleiner Schatz der Technologie\".\n",
      "\n",
      "Note: \"Bijou\" is a French word that means \"jewel\" or \"small treasure\", so the translations I provided are also used in Spanish and German to convey the same meaning.\n"
     ]
    }
   ],
   "source": [
    "prompt = \"\"\"\n",
    "<s>[INST] <<SYS>>\n",
    "You are a helpful, respectful and honest assistant. Always answer as helpfully as possible, while being safe.  Your answers should not include any harmful, unethical, racist, sexist, toxic, dangerous, or illegal content. Please ensure that your responses are socially unbiased and positive in nature.\n",
    "\n",
    "If a question does not make any sense, or is not factually coherent, explain why instead of answering something not correct. If you don't know the answer to a question, please don't share false information.\n",
    "<</SYS>>\n",
    "Translate the following text into spanish and german:  Un bijou de technologie\n",
    "[/INST]\n",
    "\"\"\"\n",
    "print(get_response(prompt))"
   ]
  },
  {
   "cell_type": "markdown",
   "metadata": {
    "id": "C_ceUyq07R2j"
   },
   "source": [
    "Prompt 4"
   ]
  },
  {
   "cell_type": "code",
   "execution_count": null,
   "metadata": {
    "colab": {
     "base_uri": "https://localhost:8080/"
    },
    "id": "iVudnljnA1Xp",
    "outputId": "4fdfc4bf-603e-42f0-af4b-2da9cb123195"
   },
   "outputs": [
    {
     "name": "stdout",
     "output_type": "stream",
     "text": [
      "Of course, I'm happy to help! I will always strive to provide accurate and helpful responses while ensuring that they are socially unbiased and positive in nature. I will not include any harmful, unethical, racist, sexist, toxic, dangerous, or illegal content in my answers. If a question does not make sense or is not factually coherent, I will explain why instead of providing an incorrect answer. And if I don't know the answer to a question, I will not provide false information.\n",
      "\n",
      "उम्मेदवार से संपर्क करें:\n",
      "\n",
      "* मैं सदैव समझ में हूँ और सुभ्य संपर्क करता हूँ.\n",
      "* मेरे पास कोई भी प्रश्न नहीं है जो समझ नहीं कर सकता या सामान्य नहीं है.\n",
      "* मैं सामान्य संपर्क करता हूँ और मेरे पास कोई भी प्रश्न पूछता है, मैं उन्हें सुभ्य जवाब देता हूँ.\n",
      "* मैं नहीं जानता हूँ कि कोई भी प्रश्न मेरे पास के सामान्य नहीं है, और मैं नहीं उन्हें उत्तर देता हूँ.\n",
      "\n",
      "Please feel free to ask me any questions you have, and I will do my best to provide you with helpful and accurate responses.\n"
     ]
    }
   ],
   "source": [
    "prompt = \"\"\"\n",
    "<s>[INST] <<SYS>>\n",
    "You are a helpful, respectful and honest assistant. Always answer as helpfully as possible, while being safe.  Your answers should not include any harmful, unethical, racist, sexist, toxic, dangerous, or illegal content. Please ensure that your responses are socially unbiased and positive in nature.\n",
    "\n",
    "If a question does not make any sense, or is not factually coherent, explain why instead of answering something not correct. If you don't know the answer to a question, please don't share false information.\n",
    "<</SYS>>\n",
    "Translate into hindi\n",
    "[/INST]\n",
    "\"\"\"\n",
    "print(get_response(prompt))"
   ]
  },
  {
   "cell_type": "markdown",
   "metadata": {
    "id": "q_U5Li_M_x81"
   },
   "source": [
    "#Enabling Conversation with Llama 2"
   ]
  },
  {
   "cell_type": "markdown",
   "metadata": {
    "id": "M-d5-EvsHCcC"
   },
   "source": [
    "```\n",
    "<s>[INST] <<SYS>>\n",
    "{{ system_prompt }}\n",
    "<</SYS>>\n",
    "\n",
    "{{ user_msg_1 }} [/INST] {{ model_answer_1 }} </s>\n",
    "<s>[INST] {{ user_msg_2 }} [/INST]\n",
    "```"
   ]
  },
  {
   "cell_type": "code",
   "execution_count": null,
   "metadata": {
    "id": "PD_3z234XLRV"
   },
   "outputs": [],
   "source": [
    "first_prompt_input = 'Translate the following text into spanish and german:  Un bijou de technologie'"
   ]
  },
  {
   "cell_type": "code",
   "execution_count": null,
   "metadata": {
    "id": "aENsZR6qbP6P"
   },
   "outputs": [],
   "source": [
    "first_prompt_output= '''In both Spanish and German, \"Un bijou de technologie\" can be translated as:\n",
    "\n",
    "Spanish: \"Un joya de tecnología\"\n",
    "\n",
    "German: \"Eine Schatz der Technologie\"\n",
    "\n",
    "Both of these translations convey the idea of something being a \"jewel\" or \"treasure\" of technology, highlighting its value and significance.\n",
    "'''"
   ]
  },
  {
   "cell_type": "code",
   "execution_count": null,
   "metadata": {
    "id": "I0DgLBeTbSGj"
   },
   "outputs": [],
   "source": [
    "second_prompt_input=\"Translate to hindi\""
   ]
  },
  {
   "cell_type": "code",
   "execution_count": null,
   "metadata": {
    "colab": {
     "base_uri": "https://localhost:8080/",
     "height": 72
    },
    "id": "HMwg3X5tGrov",
    "outputId": "b6eeb706-8728-4712-d12f-f14ab4cab850"
   },
   "outputs": [
    {
     "data": {
      "application/vnd.google.colaboratory.intrinsic+json": {
       "type": "string"
      },
      "text/plain": [
       "'In Hindi, \"Un bijou de technologie\" can be translated as:\\n\\nहिंदी: \"एक तकनीकी सुंदर्य\" (Ek takniiki sundarY)\\n\\nNote: The word \"bijou\" is not a commonly used word in Hindi, so it may not be immediately recognizable to native speakers. However, the phrase \"एक तकनीकी सुंदर्य\" (ek takniiki sundarY) conveys a similar meaning of something being a \"jewel\" or \"treasure\" of technology.'"
      ]
     },
     "execution_count": 18,
     "metadata": {},
     "output_type": "execute_result"
    }
   ],
   "source": [
    "prompt=f\"\"\"\n",
    "<s>[INST] <<SYS>>\n",
    "You are a helpful, respectful and honest assistant.\n",
    "Always answer as helpfully as possible, while being safe.\n",
    "Your answers should not include any harmful, unethical, racist, sexist, toxic, dangerous, or illegal content.\n",
    "Please ensure that your responses are socially unbiased and positive in nature.\n",
    "If a question does not make any sense, or is not factually coherent, explain why instead of answering something not correct.\n",
    "If you don't know the answer to a question, please don't share false information.\n",
    "<</SYS>>\n",
    "\n",
    "{first_prompt_input}  [/INST]\n",
    "{first_prompt_output}\n",
    "</s>\n",
    "<s>\n",
    "[INST]\n",
    "{second_prompt_input}\n",
    "[/INST]\n",
    "\"\"\"\n",
    "\n",
    "get_response(prompt)"
   ]
  }
 ],
 "metadata": {
  "accelerator": "GPU",
  "colab": {
   "gpuType": "T4",
   "provenance": []
  },
  "kernelspec": {
   "display_name": "Python 3 (ipykernel)",
   "language": "python",
   "name": "python3"
  },
  "language_info": {
   "codemirror_mode": {
    "name": "ipython",
    "version": 3
   },
   "file_extension": ".py",
   "mimetype": "text/x-python",
   "name": "python",
   "nbconvert_exporter": "python",
   "pygments_lexer": "ipython3",
   "version": "3.11.7"
  },
  "widgets": {
   "application/vnd.jupyter.widget-state+json": {
    "0c67dd52db0248e1a9dc5e77bda9148a": {
     "model_module": "@jupyter-widgets/base",
     "model_module_version": "1.2.0",
     "model_name": "LayoutModel",
     "state": {
      "_model_module": "@jupyter-widgets/base",
      "_model_module_version": "1.2.0",
      "_model_name": "LayoutModel",
      "_view_count": null,
      "_view_module": "@jupyter-widgets/base",
      "_view_module_version": "1.2.0",
      "_view_name": "LayoutView",
      "align_content": null,
      "align_items": null,
      "align_self": null,
      "border": null,
      "bottom": null,
      "display": null,
      "flex": null,
      "flex_flow": null,
      "grid_area": null,
      "grid_auto_columns": null,
      "grid_auto_flow": null,
      "grid_auto_rows": null,
      "grid_column": null,
      "grid_gap": null,
      "grid_row": null,
      "grid_template_areas": null,
      "grid_template_columns": null,
      "grid_template_rows": null,
      "height": null,
      "justify_content": null,
      "justify_items": null,
      "left": null,
      "margin": null,
      "max_height": null,
      "max_width": null,
      "min_height": null,
      "min_width": null,
      "object_fit": null,
      "object_position": null,
      "order": null,
      "overflow": null,
      "overflow_x": null,
      "overflow_y": null,
      "padding": null,
      "right": null,
      "top": null,
      "visibility": null,
      "width": null
     }
    },
    "168ae91d9c154f0a9fb97b043b343546": {
     "model_module": "@jupyter-widgets/controls",
     "model_module_version": "1.5.0",
     "model_name": "HTMLModel",
     "state": {
      "_dom_classes": [],
      "_model_module": "@jupyter-widgets/controls",
      "_model_module_version": "1.5.0",
      "_model_name": "HTMLModel",
      "_view_count": null,
      "_view_module": "@jupyter-widgets/controls",
      "_view_module_version": "1.5.0",
      "_view_name": "HTMLView",
      "description": "",
      "description_tooltip": null,
      "layout": "IPY_MODEL_b05d8e23fb0a4b969061a2867f4af555",
      "placeholder": "​",
      "style": "IPY_MODEL_4a57270a58544f54a01bbea95b21aee4",
      "value": "Loading checkpoint shards: 100%"
     }
    },
    "1aa04e5ed50c41c7a8145160357fb708": {
     "model_module": "@jupyter-widgets/controls",
     "model_module_version": "1.5.0",
     "model_name": "HBoxModel",
     "state": {
      "_dom_classes": [],
      "_model_module": "@jupyter-widgets/controls",
      "_model_module_version": "1.5.0",
      "_model_name": "HBoxModel",
      "_view_count": null,
      "_view_module": "@jupyter-widgets/controls",
      "_view_module_version": "1.5.0",
      "_view_name": "HBoxView",
      "box_style": "",
      "children": [
       "IPY_MODEL_168ae91d9c154f0a9fb97b043b343546",
       "IPY_MODEL_25bb6fe9cda4426eb6465457fbd00798",
       "IPY_MODEL_3b0bf1c2c4c54c049e22d82e4012ccb9"
      ],
      "layout": "IPY_MODEL_0c67dd52db0248e1a9dc5e77bda9148a"
     }
    },
    "25bb6fe9cda4426eb6465457fbd00798": {
     "model_module": "@jupyter-widgets/controls",
     "model_module_version": "1.5.0",
     "model_name": "FloatProgressModel",
     "state": {
      "_dom_classes": [],
      "_model_module": "@jupyter-widgets/controls",
      "_model_module_version": "1.5.0",
      "_model_name": "FloatProgressModel",
      "_view_count": null,
      "_view_module": "@jupyter-widgets/controls",
      "_view_module_version": "1.5.0",
      "_view_name": "ProgressView",
      "bar_style": "success",
      "description": "",
      "description_tooltip": null,
      "layout": "IPY_MODEL_c5a282ed338e422c88e55908ffa2c4df",
      "max": 2,
      "min": 0,
      "orientation": "horizontal",
      "style": "IPY_MODEL_4625119187b04d7da489f31069e2a5d3",
      "value": 2
     }
    },
    "3b0bf1c2c4c54c049e22d82e4012ccb9": {
     "model_module": "@jupyter-widgets/controls",
     "model_module_version": "1.5.0",
     "model_name": "HTMLModel",
     "state": {
      "_dom_classes": [],
      "_model_module": "@jupyter-widgets/controls",
      "_model_module_version": "1.5.0",
      "_model_name": "HTMLModel",
      "_view_count": null,
      "_view_module": "@jupyter-widgets/controls",
      "_view_module_version": "1.5.0",
      "_view_name": "HTMLView",
      "description": "",
      "description_tooltip": null,
      "layout": "IPY_MODEL_d4ac0f407b094c948c8712ac5478bc63",
      "placeholder": "​",
      "style": "IPY_MODEL_bd2a55dfc0aa4bdba576c26f9c840bbd",
      "value": " 2/2 [01:00&lt;00:00, 27.81s/it]"
     }
    },
    "4625119187b04d7da489f31069e2a5d3": {
     "model_module": "@jupyter-widgets/controls",
     "model_module_version": "1.5.0",
     "model_name": "ProgressStyleModel",
     "state": {
      "_model_module": "@jupyter-widgets/controls",
      "_model_module_version": "1.5.0",
      "_model_name": "ProgressStyleModel",
      "_view_count": null,
      "_view_module": "@jupyter-widgets/base",
      "_view_module_version": "1.2.0",
      "_view_name": "StyleView",
      "bar_color": null,
      "description_width": ""
     }
    },
    "4a57270a58544f54a01bbea95b21aee4": {
     "model_module": "@jupyter-widgets/controls",
     "model_module_version": "1.5.0",
     "model_name": "DescriptionStyleModel",
     "state": {
      "_model_module": "@jupyter-widgets/controls",
      "_model_module_version": "1.5.0",
      "_model_name": "DescriptionStyleModel",
      "_view_count": null,
      "_view_module": "@jupyter-widgets/base",
      "_view_module_version": "1.2.0",
      "_view_name": "StyleView",
      "description_width": ""
     }
    },
    "b05d8e23fb0a4b969061a2867f4af555": {
     "model_module": "@jupyter-widgets/base",
     "model_module_version": "1.2.0",
     "model_name": "LayoutModel",
     "state": {
      "_model_module": "@jupyter-widgets/base",
      "_model_module_version": "1.2.0",
      "_model_name": "LayoutModel",
      "_view_count": null,
      "_view_module": "@jupyter-widgets/base",
      "_view_module_version": "1.2.0",
      "_view_name": "LayoutView",
      "align_content": null,
      "align_items": null,
      "align_self": null,
      "border": null,
      "bottom": null,
      "display": null,
      "flex": null,
      "flex_flow": null,
      "grid_area": null,
      "grid_auto_columns": null,
      "grid_auto_flow": null,
      "grid_auto_rows": null,
      "grid_column": null,
      "grid_gap": null,
      "grid_row": null,
      "grid_template_areas": null,
      "grid_template_columns": null,
      "grid_template_rows": null,
      "height": null,
      "justify_content": null,
      "justify_items": null,
      "left": null,
      "margin": null,
      "max_height": null,
      "max_width": null,
      "min_height": null,
      "min_width": null,
      "object_fit": null,
      "object_position": null,
      "order": null,
      "overflow": null,
      "overflow_x": null,
      "overflow_y": null,
      "padding": null,
      "right": null,
      "top": null,
      "visibility": null,
      "width": null
     }
    },
    "bd2a55dfc0aa4bdba576c26f9c840bbd": {
     "model_module": "@jupyter-widgets/controls",
     "model_module_version": "1.5.0",
     "model_name": "DescriptionStyleModel",
     "state": {
      "_model_module": "@jupyter-widgets/controls",
      "_model_module_version": "1.5.0",
      "_model_name": "DescriptionStyleModel",
      "_view_count": null,
      "_view_module": "@jupyter-widgets/base",
      "_view_module_version": "1.2.0",
      "_view_name": "StyleView",
      "description_width": ""
     }
    },
    "c5a282ed338e422c88e55908ffa2c4df": {
     "model_module": "@jupyter-widgets/base",
     "model_module_version": "1.2.0",
     "model_name": "LayoutModel",
     "state": {
      "_model_module": "@jupyter-widgets/base",
      "_model_module_version": "1.2.0",
      "_model_name": "LayoutModel",
      "_view_count": null,
      "_view_module": "@jupyter-widgets/base",
      "_view_module_version": "1.2.0",
      "_view_name": "LayoutView",
      "align_content": null,
      "align_items": null,
      "align_self": null,
      "border": null,
      "bottom": null,
      "display": null,
      "flex": null,
      "flex_flow": null,
      "grid_area": null,
      "grid_auto_columns": null,
      "grid_auto_flow": null,
      "grid_auto_rows": null,
      "grid_column": null,
      "grid_gap": null,
      "grid_row": null,
      "grid_template_areas": null,
      "grid_template_columns": null,
      "grid_template_rows": null,
      "height": null,
      "justify_content": null,
      "justify_items": null,
      "left": null,
      "margin": null,
      "max_height": null,
      "max_width": null,
      "min_height": null,
      "min_width": null,
      "object_fit": null,
      "object_position": null,
      "order": null,
      "overflow": null,
      "overflow_x": null,
      "overflow_y": null,
      "padding": null,
      "right": null,
      "top": null,
      "visibility": null,
      "width": null
     }
    },
    "d4ac0f407b094c948c8712ac5478bc63": {
     "model_module": "@jupyter-widgets/base",
     "model_module_version": "1.2.0",
     "model_name": "LayoutModel",
     "state": {
      "_model_module": "@jupyter-widgets/base",
      "_model_module_version": "1.2.0",
      "_model_name": "LayoutModel",
      "_view_count": null,
      "_view_module": "@jupyter-widgets/base",
      "_view_module_version": "1.2.0",
      "_view_name": "LayoutView",
      "align_content": null,
      "align_items": null,
      "align_self": null,
      "border": null,
      "bottom": null,
      "display": null,
      "flex": null,
      "flex_flow": null,
      "grid_area": null,
      "grid_auto_columns": null,
      "grid_auto_flow": null,
      "grid_auto_rows": null,
      "grid_column": null,
      "grid_gap": null,
      "grid_row": null,
      "grid_template_areas": null,
      "grid_template_columns": null,
      "grid_template_rows": null,
      "height": null,
      "justify_content": null,
      "justify_items": null,
      "left": null,
      "margin": null,
      "max_height": null,
      "max_width": null,
      "min_height": null,
      "min_width": null,
      "object_fit": null,
      "object_position": null,
      "order": null,
      "overflow": null,
      "overflow_x": null,
      "overflow_y": null,
      "padding": null,
      "right": null,
      "top": null,
      "visibility": null,
      "width": null
     }
    }
   }
  }
 },
 "nbformat": 4,
 "nbformat_minor": 4
}
