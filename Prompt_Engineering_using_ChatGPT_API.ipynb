{
  "cells": [
    {
      "cell_type": "markdown",
      "metadata": {
        "id": "kqZq8WWqoVVT"
      },
      "source": [
        "# Setting up the System"
      ]
    },
    {
      "cell_type": "markdown",
      "metadata": {
        "id": "V5NLMIQsIgjs"
      },
      "source": [
        "## To run in local system"
      ]
    },
    {
      "cell_type": "markdown",
      "metadata": {
        "id": "3e4ex0-fIgjs"
      },
      "source": [
        "It is recommonded to store the API keys in a '.env' file, separate from the code.\n",
        "Plesae follow the below steps.\n",
        "1. Create a text file with the name '.env'\n",
        "2. Enter your api key in this format OPENAI_API_KEY='sk-4fae8943u9ru4982'\n",
        "3. Save and close the file"
      ]
    },
    {
      "cell_type": "markdown",
      "metadata": {
        "id": "TxtPUs_UIgjt"
      },
      "source": [
        "Then, as shown below you can provide the path of the '.env' file to 'load_dotenv' method.\n",
        "This will load any API keys stored in the '.env' file."
      ]
    },
    {
      "cell_type": "code",
      "execution_count": null,
      "metadata": {
        "id": "TEEY7Uj0Igjt"
      },
      "outputs": [],
      "source": [
        "import openai"
      ]
    },
    {
      "cell_type": "code",
      "execution_count": null,
      "metadata": {
        "id": "sd1048Igf6K1"
      },
      "outputs": [],
      "source": [
        "import os\n",
        "from dotenv import load_dotenv, find_dotenv"
      ]
    },
    {
      "cell_type": "code",
      "execution_count": null,
      "metadata": {
        "id": "_CHva7laIgju",
        "outputId": "f78b30d6-6653-4549-a923-6b3dbb8aaf7e"
      },
      "outputs": [
        {
          "data": {
            "text/plain": [
              "True"
            ]
          },
          "execution_count": 4,
          "metadata": {},
          "output_type": "execute_result"
        }
      ],
      "source": [
        "load_dotenv('/home/santhosh/Projects/courses/Pinnacle/.env')"
      ]
    },
    {
      "cell_type": "code",
      "execution_count": null,
      "metadata": {
        "id": "2rwVJKCvIgju"
      },
      "outputs": [],
      "source": [
        "OPENAI_API_KEY = os.environ[\"OPENAI_API_KEY\"]"
      ]
    },
    {
      "cell_type": "markdown",
      "metadata": {
        "id": "-0RTasiiIgjv"
      },
      "source": [
        "## To run in Google Colab"
      ]
    },
    {
      "cell_type": "markdown",
      "metadata": {
        "id": "QK3gRRaAIgjv"
      },
      "source": [
        "Please follow the lesson in the course to know how to provide the OPENAI_API_KEY"
      ]
    },
    {
      "cell_type": "code",
      "execution_count": 1,
      "metadata": {
        "colab": {
          "base_uri": "https://localhost:8080/"
        },
        "id": "YuqWE9GCIgjv",
        "outputId": "141fee66-f9e8-40c3-918e-06dbf982c693"
      },
      "outputs": [
        {
          "output_type": "stream",
          "name": "stdout",
          "text": [
            "Requirement already satisfied: openai in /usr/local/lib/python3.10/dist-packages (1.30.5)\n",
            "Requirement already satisfied: anyio<5,>=3.5.0 in /usr/local/lib/python3.10/dist-packages (from openai) (3.7.1)\n",
            "Requirement already satisfied: distro<2,>=1.7.0 in /usr/lib/python3/dist-packages (from openai) (1.7.0)\n",
            "Requirement already satisfied: httpx<1,>=0.23.0 in /usr/local/lib/python3.10/dist-packages (from openai) (0.27.0)\n",
            "Requirement already satisfied: pydantic<3,>=1.9.0 in /usr/local/lib/python3.10/dist-packages (from openai) (2.7.1)\n",
            "Requirement already satisfied: sniffio in /usr/local/lib/python3.10/dist-packages (from openai) (1.3.1)\n",
            "Requirement already satisfied: tqdm>4 in /usr/local/lib/python3.10/dist-packages (from openai) (4.66.4)\n",
            "Requirement already satisfied: typing-extensions<5,>=4.7 in /usr/local/lib/python3.10/dist-packages (from openai) (4.11.0)\n",
            "Requirement already satisfied: idna>=2.8 in /usr/local/lib/python3.10/dist-packages (from anyio<5,>=3.5.0->openai) (3.7)\n",
            "Requirement already satisfied: exceptiongroup in /usr/local/lib/python3.10/dist-packages (from anyio<5,>=3.5.0->openai) (1.2.1)\n",
            "Requirement already satisfied: certifi in /usr/local/lib/python3.10/dist-packages (from httpx<1,>=0.23.0->openai) (2024.2.2)\n",
            "Requirement already satisfied: httpcore==1.* in /usr/local/lib/python3.10/dist-packages (from httpx<1,>=0.23.0->openai) (1.0.5)\n",
            "Requirement already satisfied: h11<0.15,>=0.13 in /usr/local/lib/python3.10/dist-packages (from httpcore==1.*->httpx<1,>=0.23.0->openai) (0.14.0)\n",
            "Requirement already satisfied: annotated-types>=0.4.0 in /usr/local/lib/python3.10/dist-packages (from pydantic<3,>=1.9.0->openai) (0.7.0)\n",
            "Requirement already satisfied: pydantic-core==2.18.2 in /usr/local/lib/python3.10/dist-packages (from pydantic<3,>=1.9.0->openai) (2.18.2)\n"
          ]
        }
      ],
      "source": [
        "!pip install openai"
      ]
    },
    {
      "cell_type": "code",
      "source": [
        "from google.colab import userdata\n",
        "OPENAI_API_KEY = userdata.get('abhiraj')"
      ],
      "metadata": {
        "id": "iQcrmHT-JjsI"
      },
      "execution_count": 2,
      "outputs": []
    },
    {
      "cell_type": "code",
      "source": [
        "import openai\n",
        "openai.api_key = OPENAI_API_KEY"
      ],
      "metadata": {
        "id": "MLfVDwJcJfab"
      },
      "execution_count": 3,
      "outputs": []
    },
    {
      "cell_type": "markdown",
      "metadata": {
        "id": "Xm5JQ8YP-l3E"
      },
      "source": [
        "# Prompt Engineering with ChatGPT API"
      ]
    },
    {
      "cell_type": "markdown",
      "metadata": {
        "id": "4tgdEKDfipKj"
      },
      "source": [
        "Here are the few popular models available from https://platform.openai.com/docs/models/overview\n",
        "\n",
        "*   gpt-3.5-turbo\n",
        "*   gpt-4-turbo\n",
        "*   gpt-4o"
      ]
    },
    {
      "cell_type": "code",
      "execution_count": 4,
      "metadata": {
        "id": "K-loF_6vig4U"
      },
      "outputs": [],
      "source": [
        "model ='gpt-3.5-turbo'"
      ]
    },
    {
      "cell_type": "markdown",
      "metadata": {
        "id": "i3m97eFris08"
      },
      "source": [
        "Each message in the list has two properties: role and content.\n",
        "\n",
        "* The 'role' can take one of three values: 'system', 'user' or the 'assistant'\n",
        "\n",
        "* The 'content' contains the text of the message from the role."
      ]
    },
    {
      "cell_type": "markdown",
      "metadata": {
        "id": "19oSHdaglzQG"
      },
      "source": [
        "## Different Roles\n",
        "\n",
        "User role defines the input task/query provided by the user"
      ]
    },
    {
      "cell_type": "code",
      "execution_count": 5,
      "metadata": {
        "id": "oWcp28CWIgjw"
      },
      "outputs": [],
      "source": [
        "client = openai.OpenAI(\n",
        "   api_key = openai.api_key,\n",
        ")"
      ]
    },
    {
      "cell_type": "code",
      "execution_count": 6,
      "metadata": {
        "colab": {
          "base_uri": "https://localhost:8080/"
        },
        "id": "4KEL-9HbIgjw",
        "outputId": "36320213-849e-4771-ebac-76d8780a8dd4"
      },
      "outputs": [
        {
          "output_type": "stream",
          "name": "stdout",
          "text": [
            "ChatCompletion(id='chatcmpl-9UZZ6ZOeo8qN8hmQJwpxgBLDEeI4i', choices=[Choice(finish_reason='stop', index=0, logprobs=None, message=ChatCompletionMessage(content=\"Why couldn't the bicycle stand up by itself? \\n\\nBecause it was two tired!\", role='assistant', function_call=None, tool_calls=None))], created=1717073580, model='gpt-3.5-turbo-0125', object='chat.completion', system_fingerprint=None, usage=CompletionUsage(completion_tokens=17, prompt_tokens=11, total_tokens=28))\n"
          ]
        }
      ],
      "source": [
        "messages= [{'role':'user', 'content':'tell me a joke'}]\n",
        "response = client.chat.completions.create(model='gpt-3.5-turbo', messages=messages)\n",
        "print(response)"
      ]
    },
    {
      "cell_type": "code",
      "execution_count": 7,
      "metadata": {
        "colab": {
          "base_uri": "https://localhost:8080/"
        },
        "id": "n3aivOp2mjL_",
        "outputId": "a4706a57-c30c-4f27-e7c2-5a8e554e6cb4"
      },
      "outputs": [
        {
          "output_type": "stream",
          "name": "stdout",
          "text": [
            "Why couldn't the bicycle stand up by itself? \n",
            "\n",
            "Because it was two tired!\n"
          ]
        }
      ],
      "source": [
        "print(response.choices[0].message.content)"
      ]
    },
    {
      "cell_type": "markdown",
      "metadata": {
        "id": "pEueumBGjnvL"
      },
      "source": [
        "\n",
        "You can also use a system level instruction to guide your model's behavior throughout the conversation.\n",
        "\n",
        "For example, using a system instruction and a message like this-"
      ]
    },
    {
      "cell_type": "code",
      "execution_count": 8,
      "metadata": {
        "id": "m_GS7x2RrIsT"
      },
      "outputs": [],
      "source": [
        "messages= [{'role':'system', 'content':'You are an assistant that speaks like Shakespeare.'},\n",
        "{'role':'user', 'content':'tell me a joke'}]"
      ]
    },
    {
      "cell_type": "code",
      "execution_count": 9,
      "metadata": {
        "id": "rgef-9MS5KEp"
      },
      "outputs": [],
      "source": [
        "response = client.chat.completions.create(model='gpt-3.5-turbo', messages=messages)"
      ]
    },
    {
      "cell_type": "code",
      "execution_count": 10,
      "metadata": {
        "colab": {
          "base_uri": "https://localhost:8080/"
        },
        "id": "fnn8HSGqO_G2",
        "outputId": "17b765e5-948b-40f7-b575-b1eb2f314e54"
      },
      "outputs": [
        {
          "output_type": "stream",
          "name": "stdout",
          "text": [
            "Why did the tomato turn red? Because it saw the salad dressing! Verily, a jest to tickle the funny bone.\n"
          ]
        }
      ],
      "source": [
        "print(response.choices[0].message.content)"
      ]
    },
    {
      "cell_type": "markdown",
      "metadata": {
        "id": "v1zyAlvW3oPj"
      },
      "source": [
        "Lets define the function accepts the prompt as an input and returns the response"
      ]
    },
    {
      "cell_type": "code",
      "execution_count": 11,
      "metadata": {
        "id": "V9itT66BKcCE"
      },
      "outputs": [],
      "source": [
        "def get_response(prompt, model=\"gpt-3.5-turbo\"):\n",
        "    messages = [{\"role\":\"user\",\"content\":prompt}]\n",
        "    response = openai.chat.completions.create(\n",
        "        model=model,\n",
        "        messages=messages\n",
        "     )\n",
        "    return response.choices[0].message.content"
      ]
    },
    {
      "cell_type": "code",
      "execution_count": 12,
      "metadata": {
        "colab": {
          "base_uri": "https://localhost:8080/"
        },
        "id": "XblfLD_KKcFN",
        "outputId": "f6bb3d5e-cc95-4241-c99d-c6d6f365e1c5"
      },
      "outputs": [
        {
          "output_type": "stream",
          "name": "stdout",
          "text": [
            "Decision trees are powerful tools used in machine learning to make predictions based on a series of decisions or criteria. They are widely used in various fields such as data mining, business analytics, and bioinformatics.\n",
            "\n",
            "A decision tree is a flowchart-like structure where each internal node represents a decision based on a particular attribute, and each branch represents the outcome of that decision. The leaves of the tree represent the final decision or prediction.\n",
            "\n",
            "One of the key advantages of decision trees is their interpretability. Since decision trees mimic the way humans make decisions, they are easy to understand and interpret. This makes them a popular choice for business analysts and non-technical users.\n",
            "\n",
            "Decision trees are also robust to outliers and missing data, as they do not require data to be normalized or standardized before making predictions. They can handle both numerical and categorical data, making them versatile for various types of datasets.\n",
            "\n",
            "Additionally, decision trees can handle interactions between variables, making them suitable for complex problems where the relationship between variables is non-linear.\n",
            "\n",
            "However, decision trees can be prone to overfitting, especially when the tree is too deep or complex. This can lead to poor generalization on new, unseen data. Regularization techniques such as pruning or setting a maximum depth for the tree can help prevent overfitting.\n",
            "\n",
            "There are also ensemble methods such as random forests and gradient boosting that combine multiple decision trees to improve prediction accuracy and overcome the limitations of individual trees.\n",
            "\n",
            "In conclusion, decision trees are powerful and versatile tools in machine learning that can be used for a wide range of prediction tasks. By understanding how decision trees work and how to mitigate their limitations, data scientists and analysts can effectively leverage this tool to make informed decisions and gain valuable insights from their data.\n"
          ]
        }
      ],
      "source": [
        "prompt = \"Write a blog post on decision tree\"\n",
        "print(get_response(prompt))"
      ]
    },
    {
      "cell_type": "code",
      "execution_count": 13,
      "metadata": {
        "colab": {
          "base_uri": "https://localhost:8080/"
        },
        "id": "361EHCdkBQkJ",
        "outputId": "27be058f-61b4-446c-d627-208635827792"
      },
      "outputs": [
        {
          "output_type": "stream",
          "name": "stdout",
          "text": [
            "Decision trees are a powerful tool in the field of machine learning, allowing for the creation of models that can make predictions based on a series of inputs. However, one limitation of decision trees is their tendency to overfit the training data, resulting in a model that performs well on the training data but poorly on new, unseen data. To combat this issue, techniques such as pruning and setting a maximum depth for the tree can be used to prevent overfitting and improve the model's generalization capabilities. By carefully limiting the complexity of the decision tree, we can create more accurate and reliable models for making predictions.\n"
          ]
        }
      ],
      "source": [
        "prompt = \"Write a short blog post on decision tree limiting to 100 words\"\n",
        "print(get_response(prompt))"
      ]
    },
    {
      "cell_type": "code",
      "execution_count": 14,
      "metadata": {
        "colab": {
          "base_uri": "https://localhost:8080/"
        },
        "id": "ugFRKbqUBQmi",
        "outputId": "bb5cdcab-9f80-46a7-b088-d4b98a5d4842"
      },
      "outputs": [
        {
          "output_type": "stream",
          "name": "stdout",
          "text": [
            "If you're starting your career in Data Science, understanding decision trees is a great place to begin. Decision trees are a popular and powerful tool used in machine learning for classification and regression tasks.\n",
            "\n",
            "A decision tree is a flowchart-like structure where each internal node represents a “test” on an attribute, each branch represents the outcome of the test, and each leaf node represents a class label or a decision. The goal of using a decision tree is to create a model that predicts the value of a target variable based on several input variables.\n",
            "\n",
            "Decision trees are easy to interpret and visualize, making them a great starting point for beginners in data science. They can handle both numerical and categorical data, and can handle missing values as well.\n",
            "\n",
            "To build a decision tree, you need to understand concepts like entropy, information gain, and Gini index. There are several algorithms you can use to build decision trees, such as ID3, C4.5, and CART.\n",
            "\n",
            "By mastering decision trees, you can gain valuable insights from data and make informed decisions in your data science projects. Keep practicing and experimenting with different datasets to sharpen your skills in using decision trees effectively.\n"
          ]
        }
      ],
      "source": [
        "prompt = \"Write a blog post on decision tree for beginner level audience who are starting their career in Data Science. Limit the blog post to 200 words\"\n",
        "print(get_response(prompt))"
      ]
    },
    {
      "cell_type": "code",
      "execution_count": 15,
      "metadata": {
        "colab": {
          "base_uri": "https://localhost:8080/"
        },
        "id": "TaFo174UBQoz",
        "outputId": "4c9ddb60-beca-4068-ebdc-cb27e7386938"
      },
      "outputs": [
        {
          "output_type": "stream",
          "name": "stdout",
          "text": [
            "Introduction:\n",
            "Decision tree is a popular machine learning algorithm used for classification and regression tasks. It is a powerful tool for beginners in data science as it is easy to understand and interpret. In this blog post, we will cover the basics of decision tree algorithm for those starting their career in data science.\n",
            "\n",
            "Learning objectives:\n",
            "1. Understand the working of decision tree algorithm\n",
            "2. Learn how to build and interpret decision trees\n",
            "3. Explore the advantages and limitations of using decision trees in data science projects\n",
            "\n",
            "Table of contents:\n",
            "1. Introduction to decision tree algorithm\n",
            "2. Working of decision tree algorithm\n",
            "3. Building decision trees\n",
            "4. Advantages and limitations of decision trees\n",
            "5. Conclusion\n",
            "\n",
            "Working of decision tree algorithm:\n",
            "A decision tree is a tree-like structure where each internal node represents a feature (or attribute), each branch represents a decision rule, and each leaf node represents the outcome (or class label). The algorithm follows a top-down approach where it selects the best feature to split the dataset at each node based on certain criteria (e.g., Gini impurity, entropy) until a stopping criterion is met.\n",
            "\n",
            "Building decision trees:\n",
            "To build a decision tree, the dataset is split into subsets based on the selected feature. This process is recursively applied to each subset until all instances belong to the same class label or a predefined depth is reached. Once the tree is constructed, it can be used to make predictions on new data by following the decision rules from the root node to the leaf nodes.\n",
            "\n",
            "Advantages and limitations of decision trees:\n",
            "Decision trees have several advantages, including ease of interpretation, ability to handle both numerical and categorical data, and scalability. However, they can be prone to overfitting, especially on noisy datasets, and may not perform well on imbalanced or sparse data.\n",
            "\n",
            "Conclusion:\n",
            "In conclusion, decision tree is a fundamental machine learning algorithm that beginners in data science should be familiar with. By understanding the working of decision trees and how to build and interpret them, you can leverage this algorithm in your data science projects. While decision trees have their limitations, they are a valuable tool for classification and regression tasks. Keep practicing and exploring different variations of decision tree algorithms to enhance your skills in data science.\n"
          ]
        }
      ],
      "source": [
        "prompt = '''Write a blog post on decision tree for beginner level audience starting their career in data science.\n",
        "The blog must include the introduction,\n",
        "learning objectives,\n",
        "table of contents,\n",
        "working of decision tree algorithm\n",
        "and conclusion.\n",
        "Limit the no. of words to 500.'''\n",
        "\n",
        "print(get_response(prompt))"
      ]
    },
    {
      "cell_type": "code",
      "execution_count": 16,
      "metadata": {
        "colab": {
          "base_uri": "https://localhost:8080/"
        },
        "id": "80luhykSBQq7",
        "outputId": "4b7bb072-7a60-4ff8-f88b-865159830cfe"
      },
      "outputs": [
        {
          "output_type": "stream",
          "name": "stdout",
          "text": [
            "Introduction:\n",
            "\n",
            "Congratulations on starting your career in data science! Decision trees are a fundamental concept in machine learning and an essential tool for data scientists. In this blog post, we will explore the basics of decision trees for beginner-level audience to help you understand and apply this powerful algorithm in your data science projects.\n",
            "\n",
            "Learning objectives:\n",
            "1. Introduction to decision trees and their importance in data science.\n",
            "2. Understanding the working of decision tree algorithm.\n",
            "3. Applications of decision trees in real-world scenarios.\n",
            "\n",
            "Table of contents:\n",
            "1. Introduction\n",
            "2. What is a decision tree?\n",
            "3. How does a decision tree work?\n",
            "4. Types of decision trees\n",
            "5. Advantages and disadvantages of decision trees\n",
            "6. Applications of decision trees\n",
            "7. Conclusion\n",
            "\n",
            "Working of decision tree algorithm:\n",
            "\n",
            "A decision tree is a tree-shaped model that represents a set of decisions and their possible outcomes. It is used for both classification and regression tasks in machine learning. The algorithm works by recursively splitting the dataset into subsets based on the feature that provides the maximum information gain. This process continues until a stopping criterion is met, such as reaching a maximum depth or minimum number of samples in a node.\n",
            "\n",
            "Decision trees make predictions by following the path from the root node to a leaf node, where a decision is made based on the majority class or average value of the samples in that node. This process is known as tree traversal.\n",
            "\n",
            "Types of decision trees include binary decision trees, multiway decision trees, and regression trees. Each type has its own advantages and disadvantages, depending on the nature of the data and the problem at hand.\n",
            "\n",
            "Advantages of decision trees include their interpretability, ease of use, and ability to handle both numerical and categorical data. However, decision trees are prone to overfitting, especially with complex datasets with many features.\n",
            "\n",
            "Applications of decision trees in data science range from healthcare (diagnosis of diseases) to finance (credit scoring) and marketing (customer segmentation). Decision trees are widely used in various industries due to their ease of interpretation and ability to handle both categorical and numerical data.\n",
            "\n",
            "Conclusion:\n",
            "\n",
            "In conclusion, decision trees are an essential tool for data scientists starting their career in machine learning. Understanding the working of decision tree algorithm and its applications can help you make informed decisions and solve complex problems in your data science projects. Keep exploring and experimenting with decision trees to enhance your skills and expertise in the field of data science. Good luck on your journey!\n"
          ]
        }
      ],
      "source": [
        "prompt = '''Write a SEO friendly blog post on decision tree for beginner level audience starting their career in data science.\n",
        "The blog must include the introduction,\n",
        "learning objectives,\n",
        "table of contents,\n",
        "working of decision tree algorithm\n",
        "and conclusion.\n",
        "Limit the no. of words to 500.'''\n",
        "\n",
        "\n",
        "print(get_response(prompt))"
      ]
    },
    {
      "cell_type": "code",
      "execution_count": 17,
      "metadata": {
        "colab": {
          "base_uri": "https://localhost:8080/"
        },
        "id": "NWVz2HmxBQs0",
        "outputId": "1e9808c7-e0a0-4d5a-e89e-c223be91f761"
      },
      "outputs": [
        {
          "output_type": "stream",
          "name": "stdout",
          "text": [
            "1. What is the main focus of this blog post?\n",
            "The main focus of this blog post is to provide information on the importance of setting healthy boundaries in relationships.\n",
            "\n",
            "2. Why are boundaries important in relationships?\n",
            "Boundaries are important in relationships because they help establish mutual respect, create a sense of security and safety, and prevent issues such as codependency and emotional manipulation.\n",
            "\n",
            "3. How can I communicate my boundaries effectively to others?\n",
            "You can communicate your boundaries effectively by being clear and assertive, using \"I\" statements, setting consequences for violating boundaries, and being willing to enforce those consequences if necessary.\n",
            "\n",
            "4. What are some signs that I may have weak boundaries in my relationships?\n",
            "Signs that you may have weak boundaries in your relationships include feeling resentful or taken advantage of, constantly sacrificing your own needs for others, and feeling like you have little control over your own life.\n",
            "\n",
            "5. How can I establish boundaries with family members who may not respect them?\n",
            "Establishing boundaries with family members who may not respect them can be challenging, but it is important to stay firm, consistent, and assertive in communicating your needs and expectations.\n",
            "\n",
            "6. Are there different types of boundaries that should be set in relationships?\n",
            "Yes, there are different types of boundaries that can be set in relationships, such as physical boundaries, emotional boundaries, time boundaries, and social boundaries.\n",
            "\n",
            "7. How can boundaries help improve my mental and emotional well-being?\n",
            "Setting healthy boundaries can help improve your mental and emotional well-being by reducing stress, increasing self-esteem, promoting self-care, and fostering healthy relationships.\n",
            "\n",
            "8. What should I do if someone consistently violates my boundaries?\n",
            "If someone consistently violates your boundaries, it is important to have a conversation with them about the issue and explain how their behavior is impacting you. If they continue to disrespect your boundaries, it may be necessary to reassess the relationship.\n",
            "\n",
            "9. How can I work on setting boundaries if I struggle with assertiveness?\n",
            "If you struggle with assertiveness, consider seeking support from a therapist or counselor who can help you develop communication skills, practice setting boundaries, and work through any underlying issues that may be contributing to your difficulty in asserting yourself.\n",
            "\n",
            "10. Can setting boundaries actually strengthen my relationships?\n",
            "Yes, setting boundaries can actually strengthen your relationships by fostering trust, improving communication, enhancing respect, and creating mutually fulfilling and balanced dynamics.\n"
          ]
        }
      ],
      "source": [
        "prompt = '''Include 10 FAQs for the above blog post along with the answers'''\n",
        "\n",
        "\n",
        "print(get_response(prompt))"
      ]
    },
    {
      "cell_type": "markdown",
      "metadata": {
        "id": "WVufMOWxVkqN"
      },
      "source": [
        "# Enabling Conversation with ChatGPT API"
      ]
    },
    {
      "cell_type": "code",
      "execution_count": 18,
      "metadata": {
        "id": "qGMYfENPSIog"
      },
      "outputs": [],
      "source": [
        "first_prompt='''Write a SEO friendly blog post on decision tree for beginner level audience starting their career in data science.\n",
        "The blog must include the introduction,\n",
        "learning objectives,\n",
        "table of contents,\n",
        "working of decision tree algorithm\n",
        "and conclusion.\n",
        "Limit the no. of words to 500.'''"
      ]
    },
    {
      "cell_type": "code",
      "execution_count": 19,
      "metadata": {
        "id": "NZyRxllMSqEt"
      },
      "outputs": [],
      "source": [
        "first_prompt_output='''Title: Demystifying Decision Trees in Data Science: A Beginner's Guide\n",
        "Introduction:\n",
        "Are you someone passionate about data science and eager to embark on a fruitful career in this field? Then, understanding decision trees could be your stepping stone towards achieving that goal! Decision trees are powerful supervised machine learning algorithms that can assist in making informed decisions, discovering patterns, and solving complex problems. In this blog post, we will dive into the world of decision trees, unravel their working principles, and explore how they contribute to the realm of data science.\n",
        "\n",
        "Learning Objectives:\n",
        "1. Grasp the concept of decision trees and their relevance in data science.\n",
        "2. Understand the working of decision trees and their essential components.\n",
        "3. Gain knowledge about decision tree algorithms and their applications.\n",
        "4. Explore the significance of decision trees in making data-driven decisions.\n",
        "\n",
        "Table of Contents:\n",
        "1. Introduction\n",
        "2. What are Decision Trees?\n",
        "3. Working of Decision Trees\n",
        "   3.1. Decision Tree Structure\n",
        "   3.2. Splitting Criteria\n",
        "   3.3. Pruning\n",
        "4. Decision Tree Algorithms\n",
        "   4.1. ID3 Algorithm\n",
        "   4.2. C4.5 Algorithm\n",
        "   4.3. CART Algorithm\n",
        "5. Applications of Decision Trees\n",
        "   5.1. Predictive Analytics\n",
        "   5.2. Customer Segmentation\n",
        "   5.3. Fraud Detection\n",
        "   5.4. Medical Diagnosis\n",
        "   5.5. Credit Risk Assessment\n",
        "6. Conclusion\n",
        "\n",
        "Working of Decision Tree Algorithm:\n",
        "Decision trees are constructed using a top-down approach. Initially, the algorithm examines the entire dataset and selects the most informative attribute to form the root node. The dataset is then divided into subsets based on the attribute values. This process continues recursively until each subset is homogeneous or a predefined condition is met. The tree's internal nodes represent features/attributes, while the leaves represent the possible outcomes or decisions.\n",
        "\n",
        "Decision Tree Algorithms:\n",
        "There are various decision tree algorithms, including the ID3, C4.5, and CART algorithms. The ID3 algorithm utilizes information gain calculations, the C4.5 algorithm incorporates gain ratios, and the CART algorithm focuses on Gini impurity or entropy to decide on attribute selection and splitting.\n",
        "\n",
        "Applications of Decision Trees:\n",
        "Decision trees find applications across industries due to their versatility. They are extensively used in predictive analytics, assisting in forecast modeling and predicting outcomes. Additionally, decision trees play a pivotal role in customer segmentation, allowing businesses to effectively tailor their marketing strategies. They also contribute significantly to fraud detection, medical diagnosis, and credit risk assessment, aiding in risk evaluation and decision-making.\n",
        "\n",
        "Conclusion:\n",
        "In conclusion, decision trees serve as invaluable tools for aspiring data scientists, enabling them to understand and interpret complex datasets. They provide a systematic approach to decision-making, allowing businesses to extract valuable insights and optimize their operations. By embracing decision tree algorithms, beginners in data science can pave their way towards successfully unlocking the potential hidden within vast pools of data, ultimately making a substantial impact in their chosen field of expertise.\n",
        "'''"
      ]
    },
    {
      "cell_type": "code",
      "execution_count": 20,
      "metadata": {
        "id": "Wa1qyLzCStPW"
      },
      "outputs": [],
      "source": [
        "second_prompt = \"Include 10 FAQs for the above blog post along with the answers\""
      ]
    },
    {
      "cell_type": "code",
      "execution_count": 21,
      "metadata": {
        "id": "rkC9aWYHxRDy"
      },
      "outputs": [],
      "source": [
        "messages = [{'role':'user','content':first_prompt},\n",
        "            {'role':'assistant','content':first_prompt_output},\n",
        "            {'role':'user','content':second_prompt}\n",
        "]"
      ]
    },
    {
      "cell_type": "code",
      "execution_count": 22,
      "metadata": {
        "colab": {
          "base_uri": "https://localhost:8080/"
        },
        "id": "pAsHK848x332",
        "outputId": "1d20d790-3fe4-4aca-cd3f-29b79796756e"
      },
      "outputs": [
        {
          "output_type": "stream",
          "name": "stdout",
          "text": [
            "FAQs:\n",
            "1. What is the primary objective of using decision trees in data science?\n",
            "   Answer: The primary objective of decision trees in data science is to assist in making informed decisions, identifying patterns, and solving complex problems by analyzing and partitioning data based on various attributes.\n",
            "\n",
            "2. How are decision trees constructed?\n",
            "   Answer: Decision trees are constructed using a top-down approach, where the algorithm selects the most informative attribute to form the root node and recursively splits the dataset into subsets until each subset is homogeneous or a termination criterion is met.\n",
            "\n",
            "3. What are some common decision tree algorithms?\n",
            "   Answer: Some common decision tree algorithms include the ID3, C4.5, and CART algorithms, each utilizing different criteria for attribute selection and splitting to construct the tree.\n",
            "\n",
            "4. What is the significance of pruning in decision trees?\n",
            "   Answer: Pruning in decision trees is essential to prevent overfitting and improve the model's generalization ability by removing unnecessary branches that do not contribute significantly to the tree's performance.\n",
            "\n",
            "5. How do decision trees help in predictive analytics?\n",
            "   Answer: Decision trees are instrumental in predictive analytics by facilitating forecast modeling, predicting outcomes, and identifying patterns in large datasets to aid in making data-driven decisions.\n",
            "\n",
            "6. Can decision trees be used for customer segmentation?\n",
            "   Answer: Yes, decision trees are commonly used for customer segmentation in marketing to categorize customers based on their attributes and behaviors, enabling businesses to tailor their strategies accordingly.\n",
            "\n",
            "7. What role do decision trees play in fraud detection?\n",
            "   Answer: Decision trees play a crucial role in fraud detection by analyzing patterns in transaction data, identifying anomalies, and flagging suspicious activities to mitigate financial risks.\n",
            "\n",
            "8. How are decision trees applied in medical diagnosis?\n",
            "   Answer: In the field of healthcare, decision trees are used in medical diagnosis to classify diseases, assess symptoms, and recommend appropriate treatment plans based on patient data and diagnostic criteria.\n",
            "\n",
            "9. What is the significance of decision trees in credit risk assessment?\n",
            "   Answer: Decision trees are valuable in credit risk assessment to evaluate the creditworthiness of individuals or businesses, determine loan approval decisions, and assess the likelihood of default based on various financial factors.\n",
            "\n",
            "10. How can beginners in data science benefit from learning about decision trees?\n",
            "    Answer: Beginners in data science can benefit from learning about decision trees as they provide a practical and intuitive approach to understanding data patterns, making decisions based on data-driven insights, and honing their analytical skills for effective problem-solving in diverse domains.\n"
          ]
        }
      ],
      "source": [
        "response = openai.chat.completions.create(\n",
        "        model='gpt-3.5-turbo',\n",
        "        messages=messages\n",
        "     )\n",
        "second_prompt_output = response.choices[0].message.content\n",
        "print(second_prompt_output)"
      ]
    },
    {
      "cell_type": "code",
      "execution_count": 23,
      "metadata": {
        "id": "DkbOa3dByLC8"
      },
      "outputs": [],
      "source": [
        "#exercise\n",
        "third_prompt = ''"
      ]
    },
    {
      "cell_type": "code",
      "execution_count": 24,
      "metadata": {
        "id": "zBU3N1JHyZGa"
      },
      "outputs": [],
      "source": [
        "messages = [{'role':'user','content':first_prompt},\n",
        "            {'role':'assistant','content':first_prompt_output},\n",
        "            {'role':'user','content':second_prompt},\n",
        "            {'role':'assistant','content':second_prompt_output},\n",
        "            {'role':'user','content':third_prompt}\n",
        "]"
      ]
    },
    {
      "cell_type": "markdown",
      "metadata": {
        "id": "_c_uUUJEy5gR"
      },
      "source": [
        "## Define the Chat Function"
      ]
    },
    {
      "cell_type": "code",
      "execution_count": 25,
      "metadata": {
        "id": "PuV4KqaRKcSG"
      },
      "outputs": [],
      "source": [
        "history=[]\n",
        "\n",
        "def chat(user_prompt,is_clear=False):\n",
        "\n",
        "  global history\n",
        "  if is_clear:\n",
        "    history=[]\n",
        "\n",
        "  input_message={'role':'user','content':user_prompt}\n",
        "  history.append(input_message)\n",
        "\n",
        "  response = openai.chat.completions.create(\n",
        "        model='gpt-3.5-turbo',\n",
        "        messages=history\n",
        "     )\n",
        "\n",
        "  response=response.choices[0].message.content\n",
        "  response_message = {\"role\":\"assistant\",\"content\":response}\n",
        "  history.append(response_message)\n",
        "  return response"
      ]
    },
    {
      "cell_type": "code",
      "execution_count": 26,
      "metadata": {
        "colab": {
          "base_uri": "https://localhost:8080/"
        },
        "id": "vtV70acmzIRd",
        "outputId": "4e1a0b87-191e-4afa-fd40-ad907e4ba057"
      },
      "outputs": [
        {
          "output_type": "stream",
          "name": "stdout",
          "text": [
            "Welcome to the Analytics Vidhya community! We are thrilled to have you join us on this exciting journey of learning and sharing knowledge in the field of data science and analytics. Whether you are a seasoned professional or just starting out, this community is a place for you to connect with like-minded individuals, ask questions, and collaborate on innovative projects. We encourage you to explore all the resources and opportunities available to enhance your skills and network with other passionate data enthusiasts. Thank you for being a part of our community - we can't wait to see what amazing insights and contributions you bring to the table!\n"
          ]
        }
      ],
      "source": [
        "user_prompt = \"Write a welcome message for Analytics Vidhya community members\"\n",
        "print(chat(user_prompt))"
      ]
    },
    {
      "cell_type": "code",
      "execution_count": 27,
      "metadata": {
        "colab": {
          "base_uri": "https://localhost:8080/"
        },
        "id": "872owa5-MClv",
        "outputId": "b27cea13-113f-4a02-b7c9-155e66087091"
      },
      "outputs": [
        {
          "output_type": "stream",
          "name": "stdout",
          "text": [
            "Welcome to the Analytics Vidhya community! We are excited to have you here. \n",
            "\n",
            "Here are some specific next steps you can take to start interacting with the community:\n",
            "\n",
            "1. Join the discussion forums: Engage with other community members, ask questions, share your knowledge, and participate in discussions on a wide range of topics related to data science and analytics.\n",
            "   \n",
            "2. Participate in hackathons and competitions: Test your analytical skills by taking part in our regular hackathons and competitions. Challenge yourself, learn new techniques, and showcase your talents to the community.\n",
            "\n",
            "3. Attend webinars and workshops: Join our live webinars and workshops conducted by industry experts to stay updated on the latest trends, tools, and techniques in the field of data science.\n",
            "\n",
            "4. Contribute to the AV blog: Share your insights, experiences, and expertise by writing articles for the Analytics Vidhya blog. Help others learn and grow in their data science journey.\n",
            "\n",
            "5. Connect with fellow members: Network with other data enthusiasts, collaborate on projects, and build meaningful relationships within the community. \n",
            "\n",
            "We are excited to see you actively engage with the community and we look forward to all the valuable contributions you will bring. Welcome aboard!\n"
          ]
        }
      ],
      "source": [
        "user_prompt = \"Along with the welcome message, share some specific next steps the user can take to interact with the community.\"\n",
        "print(chat(user_prompt))"
      ]
    },
    {
      "cell_type": "code",
      "execution_count": 28,
      "metadata": {
        "colab": {
          "base_uri": "https://localhost:8080/"
        },
        "id": "wggY36KlOB71",
        "outputId": "d47ea484-32ea-48be-8950-9bfc36963fda"
      },
      "outputs": [
        {
          "output_type": "stream",
          "name": "stdout",
          "text": [
            "Welcome to the Analytics Vidhya community! We are thrilled to have you here. \n",
            "\n",
            "Meet Sarah, a community member who started her data science journey with Analytics Vidhya. She joined the forums, participated in hackathons, attended webinars, and contributed to the AV blog. Through interacting with the community, Sarah was able to learn new skills, gain valuable insights, and connect with like-minded individuals who supported and inspired her along the way. \n",
            "\n",
            "Eventually, Sarah landed her dream job at a leading tech company, all thanks to the knowledge and connections she gained through the Analytics Vidhya community. Her story is a testament to the power of learning, collaboration, and community in achieving success in the field of data science.\n",
            "\n",
            "Now, it's your turn to take the next steps in your own data science journey:\n",
            "\n",
            "1. Join the discussion forums\n",
            "2. Participate in hackathons and competitions\n",
            "3. Attend webinars and workshops\n",
            "4. Contribute to the AV blog\n",
            "5. Connect with fellow members\n",
            "\n",
            "We can't wait to see you embark on this exciting adventure of learning and growing together with the Analytics Vidhya community. Welcome aboard!\n"
          ]
        }
      ],
      "source": [
        "user_prompt = \"Add a story to this message showing the impact of community and learning in the life of a community member. End the message with the specific actions outlined in the previous message\"\n",
        "print(chat(user_prompt))"
      ]
    },
    {
      "cell_type": "code",
      "execution_count": 29,
      "metadata": {
        "colab": {
          "base_uri": "https://localhost:8080/"
        },
        "id": "t-hQvYJm8ulk",
        "outputId": "4dbdc320-3302-448a-ecf5-5e84602b8efa"
      },
      "outputs": [
        {
          "output_type": "stream",
          "name": "stdout",
          "text": [
            "{'role': 'user', 'content': 'Write a welcome message for Analytics Vidhya community members'}\n",
            "{'role': 'assistant', 'content': \"Welcome to the Analytics Vidhya community! We are thrilled to have you join us on this exciting journey of learning and sharing knowledge in the field of data science and analytics. Whether you are a seasoned professional or just starting out, this community is a place for you to connect with like-minded individuals, ask questions, and collaborate on innovative projects. We encourage you to explore all the resources and opportunities available to enhance your skills and network with other passionate data enthusiasts. Thank you for being a part of our community - we can't wait to see what amazing insights and contributions you bring to the table!\"}\n",
            "{'role': 'user', 'content': 'Along with the welcome message, share some specific next steps the user can take to interact with the community.'}\n",
            "{'role': 'assistant', 'content': 'Welcome to the Analytics Vidhya community! We are excited to have you here. \\n\\nHere are some specific next steps you can take to start interacting with the community:\\n\\n1. Join the discussion forums: Engage with other community members, ask questions, share your knowledge, and participate in discussions on a wide range of topics related to data science and analytics.\\n   \\n2. Participate in hackathons and competitions: Test your analytical skills by taking part in our regular hackathons and competitions. Challenge yourself, learn new techniques, and showcase your talents to the community.\\n\\n3. Attend webinars and workshops: Join our live webinars and workshops conducted by industry experts to stay updated on the latest trends, tools, and techniques in the field of data science.\\n\\n4. Contribute to the AV blog: Share your insights, experiences, and expertise by writing articles for the Analytics Vidhya blog. Help others learn and grow in their data science journey.\\n\\n5. Connect with fellow members: Network with other data enthusiasts, collaborate on projects, and build meaningful relationships within the community. \\n\\nWe are excited to see you actively engage with the community and we look forward to all the valuable contributions you will bring. Welcome aboard!'}\n",
            "{'role': 'user', 'content': 'Add a story to this message showing the impact of community and learning in the life of a community member. End the message with the specific actions outlined in the previous message'}\n",
            "{'role': 'assistant', 'content': \"Welcome to the Analytics Vidhya community! We are thrilled to have you here. \\n\\nMeet Sarah, a community member who started her data science journey with Analytics Vidhya. She joined the forums, participated in hackathons, attended webinars, and contributed to the AV blog. Through interacting with the community, Sarah was able to learn new skills, gain valuable insights, and connect with like-minded individuals who supported and inspired her along the way. \\n\\nEventually, Sarah landed her dream job at a leading tech company, all thanks to the knowledge and connections she gained through the Analytics Vidhya community. Her story is a testament to the power of learning, collaboration, and community in achieving success in the field of data science.\\n\\nNow, it's your turn to take the next steps in your own data science journey:\\n\\n1. Join the discussion forums\\n2. Participate in hackathons and competitions\\n3. Attend webinars and workshops\\n4. Contribute to the AV blog\\n5. Connect with fellow members\\n\\nWe can't wait to see you embark on this exciting adventure of learning and growing together with the Analytics Vidhya community. Welcome aboard!\"}\n"
          ]
        }
      ],
      "source": [
        "for message in history:\n",
        "  print(message)"
      ]
    },
    {
      "cell_type": "code",
      "execution_count": 30,
      "metadata": {
        "colab": {
          "base_uri": "https://localhost:8080/"
        },
        "id": "pU8PYFoW8p3q",
        "outputId": "6f2412fd-0b26-4521-87de-fe9454101eb6"
      },
      "outputs": [
        {
          "output_type": "stream",
          "name": "stdout",
          "text": [
            "Dear community members,\n",
            "\n",
            "As aspiring or seasoned data scientists, it is crucial to emphasize the importance of daily learning in our field. With the rapid advancements in technology and the ever-evolving landscape of data science, staying up-to-date with the latest tools, techniques, and trends is essential for our growth and success.\n",
            "\n",
            "By making a commitment to daily learning, whether it be through reading research papers, taking online courses, attending workshops, or simply practicing coding, we are investing in our own professional development and ensuring that we remain competitive in this fast-paced industry.\n",
            "\n",
            "Continuous learning not only allows us to expand our knowledge and skill set, but it also helps us to stay innovative, adaptable, and well-equipped to tackle the complex challenges that come with working in data science.\n",
            "\n",
            "So, let's make a collective effort to prioritize daily learning in our lives. Together, we can propel ourselves forward and contribute to the growth and advancement of the data science community as a whole.\n",
            "\n",
            "Keep learning, stay curious, and never stop growing.\n",
            "\n",
            "Best regards,\n",
            "[Your Name]\n"
          ]
        }
      ],
      "source": [
        "user_prompt = \"Write a message to the community members emphasising the importance of daily learning in Data Science.\"\n",
        "print(chat(user_prompt,True))"
      ]
    },
    {
      "cell_type": "code",
      "execution_count": 31,
      "metadata": {
        "colab": {
          "base_uri": "https://localhost:8080/"
        },
        "id": "5Ou66GB--98g",
        "outputId": "79b5b851-ac1d-429f-92ce-91be6b86e320"
      },
      "outputs": [
        {
          "output_type": "execute_result",
          "data": {
            "text/plain": [
              "[{'role': 'user',\n",
              "  'content': 'Write a message to the community members emphasising the importance of daily learning in Data Science.'},\n",
              " {'role': 'assistant',\n",
              "  'content': \"Dear community members,\\n\\nAs aspiring or seasoned data scientists, it is crucial to emphasize the importance of daily learning in our field. With the rapid advancements in technology and the ever-evolving landscape of data science, staying up-to-date with the latest tools, techniques, and trends is essential for our growth and success.\\n\\nBy making a commitment to daily learning, whether it be through reading research papers, taking online courses, attending workshops, or simply practicing coding, we are investing in our own professional development and ensuring that we remain competitive in this fast-paced industry.\\n\\nContinuous learning not only allows us to expand our knowledge and skill set, but it also helps us to stay innovative, adaptable, and well-equipped to tackle the complex challenges that come with working in data science.\\n\\nSo, let's make a collective effort to prioritize daily learning in our lives. Together, we can propel ourselves forward and contribute to the growth and advancement of the data science community as a whole.\\n\\nKeep learning, stay curious, and never stop growing.\\n\\nBest regards,\\n[Your Name]\"}]"
            ]
          },
          "metadata": {},
          "execution_count": 31
        }
      ],
      "source": [
        "history"
      ]
    }
  ],
  "metadata": {
    "colab": {
      "provenance": []
    },
    "kernelspec": {
      "display_name": "Python 3 (ipykernel)",
      "language": "python",
      "name": "python3"
    },
    "language_info": {
      "codemirror_mode": {
        "name": "ipython",
        "version": 3
      },
      "file_extension": ".py",
      "mimetype": "text/x-python",
      "name": "python",
      "nbconvert_exporter": "python",
      "pygments_lexer": "ipython3",
      "version": "3.11.7"
    }
  },
  "nbformat": 4,
  "nbformat_minor": 0
}