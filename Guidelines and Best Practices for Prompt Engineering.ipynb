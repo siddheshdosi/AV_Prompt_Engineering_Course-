{
 "cells": [
  {
   "cell_type": "markdown",
   "metadata": {
    "id": "kqZq8WWqoVVT"
   },
   "source": [
    "# Setting up the System"
   ]
  },
  {
   "cell_type": "markdown",
   "metadata": {},
   "source": [
    "## To run in local system"
   ]
  },
  {
   "cell_type": "code",
   "execution_count": 2,
   "metadata": {},
   "outputs": [],
   "source": [
    "import openai"
   ]
  },
  {
   "cell_type": "code",
   "execution_count": 3,
   "metadata": {
    "id": "sd1048Igf6K1"
   },
   "outputs": [],
   "source": [
    "import os\n",
    "from dotenv import load_dotenv, find_dotenv"
   ]
  },
  {
   "cell_type": "code",
   "execution_count": 4,
   "metadata": {},
   "outputs": [
    {
     "data": {
      "text/plain": [
       "True"
      ]
     },
     "execution_count": 4,
     "metadata": {},
     "output_type": "execute_result"
    }
   ],
   "source": [
    "load_dotenv('/home/santhosh/Projects/courses/Pinnacle/.env')"
   ]
  },
  {
   "cell_type": "code",
   "execution_count": 5,
   "metadata": {},
   "outputs": [],
   "source": [
    "OPENAI_API_KEY = os.environ[\"OPENAI_API_KEY\"]"
   ]
  },
  {
   "cell_type": "markdown",
   "metadata": {},
   "source": [
    "## To run in Google Colab"
   ]
  },
  {
   "cell_type": "code",
   "execution_count": null,
   "metadata": {},
   "outputs": [],
   "source": [
    "from google.colab import userdata\n",
    "OPENAI_API_KEY = userdata.get('OPENAI_API_KEY')"
   ]
  },
  {
   "cell_type": "code",
   "execution_count": null,
   "metadata": {},
   "outputs": [],
   "source": [
    "import openai\n",
    "openai.api_key = OPENAI_API_KEY"
   ]
  },
  {
   "cell_type": "markdown",
   "metadata": {
    "id": "XVKl3Vqd5hST"
   },
   "source": [
    "# Guidelines and Best Practices for Prompt Engineering\n"
   ]
  },
  {
   "cell_type": "code",
   "execution_count": 6,
   "metadata": {
    "id": "V9itT66BKcCE"
   },
   "outputs": [],
   "source": [
    "def get_response(prompt, temperature=0, model=\"gpt-3.5-turbo\"):\n",
    "    \n",
    "    messages = [{\"role\":\"user\",\"content\":prompt}]\n",
    "    response = openai.chat.completions.create(\n",
    "        model=model,\n",
    "        messages=messages,\n",
    "        temperature=temperature)\n",
    "    \n",
    "    return response.choices[0].message.content"
   ]
  },
  {
   "cell_type": "markdown",
   "metadata": {
    "id": "eGwRuZntlcMn"
   },
   "source": [
    "# Case Study - Customer Support Function - Categorisation and resolution of Tickets raised"
   ]
  },
  {
   "cell_type": "code",
   "execution_count": null,
   "metadata": {
    "id": "NR2lpMw373rY"
   },
   "outputs": [],
   "source": [
    "first_customer_support_ticket= '''Dear Support Team,\n",
    "\n",
    "I hope this message finds you well.\n",
    "I'm experiencing difficulties accessing my account on your platform.\n",
    "When I attempt to log in, I receive an error message stating, \"Invalid Credentials.\"\n",
    "I've double-checked my username and password, and they are correct.\n",
    "\n",
    "Details:\n",
    "- Username: johndoe123\n",
    "- Browser: Google Chrome\n",
    "- Operating System: Windows 10\n",
    "\n",
    "I have tried clearing my browser cache and resetting my password, but the issue persists.\n",
    "This is affecting my ability to use your services, and I would appreciate a prompt resolution.\n",
    "\n",
    "Please let me know if you require any additional information to assist with troubleshooting.\n",
    "\n",
    "Thank you,\n",
    "John Doe\n",
    "'''"
   ]
  },
  {
   "cell_type": "code",
   "execution_count": null,
   "metadata": {
    "id": "B-l5K1KtNjXn"
   },
   "outputs": [],
   "source": [
    "second_customer_support_ticket= '''\n",
    "Dear Support Team,\n",
    "\n",
    "I hope this message finds you well. I am writing to report a technical issue I have encountered while using your platform. Specifically, I am unable to access Feature XYZ.\n",
    "\n",
    "Issue Details:\n",
    "\n",
    "Feature Affected: XYZ\n",
    "Description of the Issue: When I attempt to use Feature XYZ, [describe the specific problem or error message you are encountering]. The issue has been persistent for [mention the duration or frequency of the problem].\n",
    "Steps Taken to Resolve: I have tried [list any troubleshooting steps you've already taken, if applicable, such as clearing cache, restarting the device, etc.]. However, the problem persists.\n",
    "Additional Information:\n",
    "\n",
    "Browser/Device: I am using [mention the browser and device you are using].\n",
    "Screenshots: [Attach any relevant screenshots if possible, to provide visual context].\n",
    "This feature is crucial for my [mention the specific purpose or task], and I appreciate your prompt attention to this matter. Please let me know if there are any additional details needed from my end to assist in resolving this issue.\n",
    "\n",
    "Thank you for your assistance.\n",
    "\n",
    "Best regards,\n",
    "[Your Name]\n",
    "[Your Contact Information]\n",
    "'''"
   ]
  },
  {
   "cell_type": "markdown",
   "metadata": {
    "id": "9VM2DeaRnQNh"
   },
   "source": [
    "## Write Clear and Specific Instructions\n",
    "\n",
    "Example 1"
   ]
  },
  {
   "cell_type": "code",
   "execution_count": null,
   "metadata": {
    "colab": {
     "base_uri": "https://localhost:8080/"
    },
    "id": "QVbWR4lwEuBx",
    "outputId": "a51709f9-f77c-490a-c2f5-77a2a9af6cc4"
   },
   "outputs": [
    {
     "name": "stdout",
     "output_type": "stream",
     "text": [
      "The customer support ticket can be classified as a technical issue.\n"
     ]
    }
   ],
   "source": [
    "user_prompt = f'classify the customer support ticket: {first_customer_support_ticket}'\n",
    "print(get_response(user_prompt))"
   ]
  },
  {
   "cell_type": "code",
   "execution_count": null,
   "metadata": {
    "colab": {
     "base_uri": "https://localhost:8080/"
    },
    "id": "Iub9bsCaLpjD",
    "outputId": "12479397-212b-4430-e19f-dd5fb9093a72"
   },
   "outputs": [
    {
     "name": "stdout",
     "output_type": "stream",
     "text": [
      "This customer support ticket can be classified as a technical issue related to the inability to access a specific feature (Feature XYZ) on the platform.\n"
     ]
    }
   ],
   "source": [
    "user_prompt = f'classify the customer support ticket: {second_customer_support_ticket}'\n",
    "print(get_response(user_prompt))"
   ]
  },
  {
   "cell_type": "code",
   "execution_count": null,
   "metadata": {
    "colab": {
     "base_uri": "https://localhost:8080/"
    },
    "id": "YvWSFAmvM1WF",
    "outputId": "943180b3-39a1-427d-e3dc-a9129bf42846"
   },
   "outputs": [
    {
     "name": "stdout",
     "output_type": "stream",
     "text": [
      "Category: Technical Issues\n"
     ]
    }
   ],
   "source": [
    "user_prompt = f'''classify the customer support tickets into broad categories such as\n",
    "'Technical Issues,' 'Billing Inquiries,' and 'Product Feedback'\n",
    "{first_customer_support_ticket}'''\n",
    "\n",
    "print(get_response(user_prompt))"
   ]
  },
  {
   "cell_type": "code",
   "execution_count": null,
   "metadata": {
    "colab": {
     "base_uri": "https://localhost:8080/"
    },
    "id": "KrtrkINy4J83",
    "outputId": "7d41936e-2f08-4259-e54a-3728e1e50719"
   },
   "outputs": [
    {
     "name": "stdout",
     "output_type": "stream",
     "text": [
      "Category: Technical Issues\n"
     ]
    }
   ],
   "source": [
    "user_prompt = f'''classify the customer support tickets into broad categories such as\n",
    "'Technical Issues,' 'Billing Inquiries,' and 'Product Feedback.\n",
    "{second_customer_support_ticket}'''\n",
    "\n",
    "print(get_response(user_prompt))"
   ]
  },
  {
   "cell_type": "markdown",
   "metadata": {
    "id": "4hQq5OwvJudP"
   },
   "source": [
    "Example 2"
   ]
  },
  {
   "cell_type": "code",
   "execution_count": null,
   "metadata": {
    "colab": {
     "base_uri": "https://localhost:8080/"
    },
    "id": "Qn-76Qb7XEZ1",
    "outputId": "8e35c8c7-6c7a-47df-8421-239c50b4f2df"
   },
   "outputs": [
    {
     "name": "stdout",
     "output_type": "stream",
     "text": [
      "Dear John Doe,\n",
      "\n",
      "Thank you for reaching out to our support team. We apologize for the inconvenience you are experiencing with accessing your account on our platform.\n",
      "\n",
      "We understand that you have been receiving an error message stating \"Invalid Credentials\" despite entering the correct username and password. We apologize for any frustration this may have caused.\n",
      "\n",
      "To further investigate and resolve this issue, we kindly request you to provide us with the following information:\n",
      "\n",
      "1. Have you recently changed your password before encountering this issue?\n",
      "2. Are you able to access your account from a different browser or device?\n",
      "3. Have you tried accessing your account from a different network or internet connection?\n",
      "\n",
      "In the meantime, we recommend trying the following troubleshooting steps:\n",
      "\n",
      "1. Clear your browser cache and cookies again, ensuring that all temporary internet files are removed.\n",
      "2. Disable any browser extensions or plugins that may interfere with the login process.\n",
      "3. Try accessing your account using an incognito or private browsing window.\n",
      "4. Restart your computer and router to refresh your network connection.\n",
      "\n",
      "If the issue persists after trying these steps, please provide us with the requested information, and our technical team will investigate further to resolve the issue promptly.\n",
      "\n",
      "We apologize for any inconvenience caused and appreciate your patience in this matter. We will do our best to assist you in resolving this issue as quickly as possible.\n",
      "\n",
      "Thank you for your cooperation.\n",
      "\n",
      "Best regards,\n",
      "[Your Name]\n",
      "Customer Support Team\n"
     ]
    }
   ],
   "source": [
    "user_prompt=f'''\n",
    "Generate a response for a customer support ticket related to a user experiencing issues\n",
    "with accessing their account.\n",
    "\n",
    "Customer Support Ticket:{first_customer_support_ticket}\n",
    "'''\n",
    "print(get_response(user_prompt))"
   ]
  },
  {
   "cell_type": "code",
   "execution_count": null,
   "metadata": {
    "colab": {
     "base_uri": "https://localhost:8080/"
    },
    "id": "z_a8tp_DWM-7",
    "outputId": "c2e2c5b7-f82c-439c-e39f-d1c416b5e74c"
   },
   "outputs": [
    {
     "name": "stdout",
     "output_type": "stream",
     "text": [
      "Dear John Doe,\n",
      "\n",
      "Thank you for reaching out to our support team regarding the difficulties you are experiencing accessing your account. We apologize for any inconvenience this may have caused you.\n",
      "\n",
      "To troubleshoot the issue, we recommend the following steps:\n",
      "\n",
      "1. Please ensure that you are entering your username and password correctly. Double-check for any typos or capitalization errors.\n",
      "2. Clear your browser cache and cookies. This can be done by going to the settings menu in Google Chrome, selecting \"Privacy and security,\" and then clicking on \"Clear browsing data.\"\n",
      "3. Try accessing your account from a different browser or device to see if the issue persists. This will help us determine if the problem is specific to your current browser or device.\n",
      "4. If the issue continues, please reset your password by clicking on the \"Forgot Password\" link on the login page. Follow the instructions provided to create a new password.\n",
      "\n",
      "We understand your concern about data security. Please be assured that we take the security of our users' data very seriously. Our platform utilizes industry-standard encryption protocols to protect your personal information.\n",
      "\n",
      "We apologize for any inconvenience caused by this issue, and we are committed to resolving it as quickly as possible. Our technical team is currently investigating the problem, and we aim to have it resolved within the next 24 hours. We will keep you updated on the progress and provide a prompt resolution.\n",
      "\n",
      "If you have any further questions or require additional assistance, please don't hesitate to reach out to us. We appreciate your patience and understanding.\n",
      "\n",
      "Thank you,\n",
      "The Support Team\n"
     ]
    }
   ],
   "source": [
    "user_prompt= f'''Generate a response for a customer support ticket related to a user experiencing issues\n",
    "with accessing their account. Include specific details such as\n",
    "steps to troubleshoot the problem,\n",
    "reassurance about data security,\n",
    "and a prompt resolution timeline\n",
    "Customer Support Ticket:{first_customer_support_ticket}\n",
    "'''\n",
    "print(get_response(user_prompt))"
   ]
  },
  {
   "cell_type": "markdown",
   "metadata": {
    "id": "PhZjoEQrhv1T"
   },
   "source": [
    "## Use Specific Examples\n",
    "\n",
    "Tone, Structure, Style"
   ]
  },
  {
   "cell_type": "code",
   "execution_count": null,
   "metadata": {
    "colab": {
     "base_uri": "https://localhost:8080/"
    },
    "id": "vk3Z-TjxJ2n2",
    "outputId": "611956cd-b1d1-42e7-ca0d-7f7368e27990"
   },
   "outputs": [
    {
     "name": "stdout",
     "output_type": "stream",
     "text": [
      "Dear John Doe,\n",
      "\n",
      "Thank you for reaching out to our support team regarding the difficulties you are experiencing accessing your account on our platform. We apologize for any inconvenience this may have caused and we are here to assist you in resolving this issue.\n",
      "\n",
      "We understand that you have already double-checked your username and password and confirmed that they are correct. We appreciate your efforts in troubleshooting the problem by clearing your browser cache and resetting your password, but it seems that the issue persists.\n",
      "\n",
      "To further assist you, we kindly request that you try the following steps:\n",
      "\n",
      "1. Clear Browser Data: Clear not only the cache but also cookies and browsing history. In Google Chrome, you can find this option in \"Settings\" under \"Privacy and security.\" Click on \"Clear browsing data\" and select cookies and browsing history.\n",
      "\n",
      "2. Try a Different Browser: Sometimes, using an alternative browser such as Mozilla Firefox or Microsoft Edge can help resolve login issues.\n",
      "\n",
      "3. Disable Browser Extensions: Temporarily disable any browser extensions or add-ons, as they may be causing conflicts. Try logging in without any extensions enabled.\n",
      "\n",
      "If these steps do not resolve the issue, please provide us with the following information:\n",
      "\n",
      "- Are you encountering any error messages other than \"Invalid Credentials\"?\n",
      "- Have you attempted to log in from another device or network?\n",
      "- Can you successfully log in with the same credentials on other platforms?\n",
      "\n",
      "We are committed to resolving this matter promptly and ensuring that you can fully utilize our services. We apologize for any inconvenience caused and appreciate your patience throughout this process.\n",
      "\n",
      "Please let us know the outcome of the suggested steps or if you have any further questions. We are here to assist you and will do our best to resolve this issue as quickly as possible.\n",
      "\n",
      "Best regards,\n",
      "\n",
      "[Your Name]\n",
      "Customer Support Team\n"
     ]
    }
   ],
   "source": [
    "user_prompt = f'''Compose a customer support response for a ticket\n",
    "where the customer reports a technical issue with a purchased product.\n",
    "\n",
    "Customer Support Ticket:{first_customer_support_ticket}\n",
    "\n",
    "Here is an example for your reference:\n",
    "\n",
    "Dear Jerry,\n",
    "\n",
    "Hello! Thank you for getting in touch with us, and we're really sorry for the trouble you're having logging\n",
    "into your account. We totally understand how frustrating this can be, and we're here to make things right.\n",
    "\n",
    "We noticed you've already tried a few things to fix it, and we appreciate your efforts.\n",
    "Could you please give these steps a shot? It might help:\n",
    "\n",
    "Clear Browser Data: Try clearing not just the cache but also cookies and history.\n",
    "In Google Chrome, you can find this in \"Settings\" under \"Privacy and security.\"\n",
    "Click \"Clear browsing data\" and choose cookies and browsing history.\n",
    "Try a Different Browser: Sometimes, using another browser like Mozilla Firefox or Microsoft Edge can work better.\n",
    "Disable Browser Extensions: Some add-ons can cause issues. Temporarily turn off any extensions and see if that helps.\n",
    "If these steps don't do the trick, could you tell us:\n",
    "\n",
    "Are you seeing any error messages other than \"Invalid Credentials\"?\n",
    "Have you tried logging in from another device or network?\n",
    "Can you log in successfully with the same details on other platforms?\n",
    "We're eager to help and want to get this sorted for you. Sorry again for any hassle this has caused.\n",
    "Your patience means a lot to us.\n",
    "\n",
    "Let us know how it goes or if you have any questions.\n",
    "We're here for you and are committed to fixing this as fast as we can.\n",
    "\n",
    "Warm regards,\n",
    "\n",
    "[Your Name]\n",
    "Customer Support Team\n",
    "'''\n",
    "\n",
    "print(get_response(user_prompt))"
   ]
  },
  {
   "cell_type": "markdown",
   "metadata": {
    "id": "V_7EMJuujfiX"
   },
   "source": [
    "\n",
    "## Vary the Prompts and Iterate"
   ]
  },
  {
   "cell_type": "code",
   "execution_count": null,
   "metadata": {
    "colab": {
     "base_uri": "https://localhost:8080/"
    },
    "id": "ibE1oy22nLDY",
    "outputId": "1449d4cb-2c67-4f3a-c28c-0640d3da969b"
   },
   "outputs": [
    {
     "name": "stdout",
     "output_type": "stream",
     "text": [
      "Dear John Doe,\n",
      "\n",
      "Thank you for reaching out to our support team regarding the technical issue you are experiencing with accessing your account on our platform. We apologize for any inconvenience this may have caused you.\n",
      "\n",
      "We understand that you have been receiving an error message stating \"Invalid Credentials\" when attempting to log in, despite confirming that your username and password are correct. We appreciate you providing us with the following details:\n",
      "\n",
      "- Username: johndoe123\n",
      "- Browser: Google Chrome\n",
      "- Operating System: Windows 10\n",
      "\n",
      "We apologize for the inconvenience you have faced and appreciate your efforts in troubleshooting the issue by clearing your browser cache and resetting your password. However, it seems that the issue still persists.\n",
      "\n",
      "To further assist you, we kindly request you to provide us with the following information:\n",
      "\n",
      "1. Are you experiencing this issue on any other device or browser?\n",
      "2. Have you tried accessing your account from a different network or internet connection?\n",
      "3. Could you please provide us with any error codes or additional error messages you may have encountered?\n",
      "\n",
      "Once we receive this information, our technical team will investigate the issue thoroughly and work towards a prompt resolution. We assure you that we are committed to resolving this matter as quickly as possible to restore your access to our services.\n",
      "\n",
      "Thank you for your patience and cooperation. We look forward to hearing from you soon.\n",
      "\n",
      "Best regards,\n",
      "\n",
      "[Your Name]\n",
      "Customer Support Team\n"
     ]
    }
   ],
   "source": [
    "user_prompt = f'''Compose a customer support response for a ticket where\n",
    "the customer reports a technical issue with a purchased product.\n",
    "\n",
    "Customer Support Ticket:{first_customer_support_ticket}'''\n",
    "\n",
    "print(get_response(user_prompt))"
   ]
  },
  {
   "cell_type": "code",
   "execution_count": null,
   "metadata": {
    "colab": {
     "base_uri": "https://localhost:8080/"
    },
    "id": "y0bAmrwApFJW",
    "outputId": "7c6cc045-f3fc-4213-c7e4-2833c0a87932"
   },
   "outputs": [
    {
     "name": "stdout",
     "output_type": "stream",
     "text": [
      "Dear John Doe,\n",
      "\n",
      "Thank you for reaching out to our support team. We apologize for any inconvenience you have experienced while trying to access your account on our platform.\n",
      "\n",
      "We understand that you are receiving an error message stating \"Invalid Credentials\" when attempting to log in, despite confirming that your username and password are correct. We appreciate you providing the following details to assist us in troubleshooting the issue:\n",
      "\n",
      "- Username: johndoe123\n",
      "- Browser: Google Chrome\n",
      "- Operating System: Windows 10\n",
      "\n",
      "We appreciate your efforts in clearing your browser cache and resetting your password, but we regret to hear that the issue persists. We understand the impact this has on your ability to utilize our services, and we assure you that we will work diligently to resolve this matter promptly.\n",
      "\n",
      "To further investigate and resolve the issue, we kindly request your patience and cooperation. Our technical team will thoroughly analyze the situation and take the necessary steps to rectify the problem. If there is any additional information you believe may be helpful in troubleshooting, please do not hesitate to provide it.\n",
      "\n",
      "We apologize for any inconvenience caused and assure you that we are committed to providing you with a seamless user experience. We will keep you updated on the progress and provide a resolution as soon as possible.\n",
      "\n",
      "Thank you for your understanding and cooperation.\n",
      "\n",
      "Best regards,\n",
      "\n",
      "[Your Name]\n",
      "Customer Support Team\n"
     ]
    }
   ],
   "source": [
    "user_prompt = f'''Compose a customer support response for a ticket where\n",
    "the customer reports a technical issue with a purchased product with a more formal and professional tone.\n",
    "\n",
    "Customer Support Ticket:{first_customer_support_ticket}'''\n",
    "\n",
    "print(get_response(user_prompt))"
   ]
  },
  {
   "cell_type": "code",
   "execution_count": null,
   "metadata": {
    "colab": {
     "base_uri": "https://localhost:8080/"
    },
    "id": "9RnI7tlHkhpI",
    "outputId": "9fdaf9bd-40ce-46cc-d792-b05f9bf742ee"
   },
   "outputs": [
    {
     "name": "stdout",
     "output_type": "stream",
     "text": [
      "Dear John Doe,\n",
      "\n",
      "Thank you for reaching out to our support team. We apologize for the inconvenience you are facing while accessing your account on our platform. We understand how frustrating this can be and we are here to assist you in resolving this issue.\n",
      "\n",
      "Based on the information you provided, it seems that you are receiving an error message stating \"Invalid Credentials\" when attempting to log in. We appreciate you double-checking your username and password and confirming their correctness.\n",
      "\n",
      "To further investigate and resolve this issue, we kindly request you to perform the following troubleshooting steps:\n",
      "\n",
      "1. Clear your browser cache: Please go to the settings of your Google Chrome browser and clear the cache. This can help eliminate any temporary data that might be causing conflicts.\n",
      "\n",
      "2. Reset your password: Since you have already attempted this step, we recommend trying it once more to ensure that the password is correctly updated in our system. Please follow the password reset instructions provided on our platform.\n",
      "\n",
      "If the issue persists after performing these steps, please provide us with the following additional information:\n",
      "\n",
      "- Are you experiencing this issue on any other browsers or devices?\n",
      "- Have you made any recent changes to your computer or network settings?\n",
      "- Are you using any browser extensions or plugins that might be interfering with the login process?\n",
      "\n",
      "Once we receive this information, our technical team will be able to further investigate the issue and provide you with a prompt resolution.\n",
      "\n",
      "We understand the importance of accessing our services without any hindrance, and we assure you that we are committed to resolving this matter as quickly as possible.\n",
      "\n",
      "Thank you for your patience and cooperation. We look forward to hearing from you soon.\n",
      "\n",
      "Best regards,\n",
      "\n",
      "[Your Name]\n",
      "Customer Support Team\n"
     ]
    }
   ],
   "source": [
    "user_prompt = f'''Compose a customer support response for a ticket where\n",
    "the customer reports a technical issue with a purchased product with a more formal and professional tone.\n",
    "Maintain a focus on providing clear instructions while expressing empathy for the inconvenience caused.\n",
    "Use a structured approach and avoid informal language\n",
    "\n",
    "Customer Support Ticket:{first_customer_support_ticket}'''\n",
    "\n",
    "print(get_response(user_prompt))"
   ]
  },
  {
   "cell_type": "markdown",
   "metadata": {
    "id": "j1xLSQ0-SjRp"
   },
   "source": [
    "##4.Use the Delimiters"
   ]
  },
  {
   "cell_type": "code",
   "execution_count": null,
   "metadata": {
    "id": "tTHNwA7eEWs0"
   },
   "outputs": [],
   "source": [
    "customer_support_tickets=['''Dear Support Team,\n",
    "\n",
    "I hope this message finds you well.\n",
    "I'm experiencing difficulties accessing my account on your platform.\n",
    "When I attempt to log in, I receive an error message stating, \"Invalid Credentials.\"\n",
    "I've double-checked my username and password, and they are correct.\n",
    "\n",
    "Details:\n",
    "- Username: johndoe123\n",
    "- Browser: Google Chrome\n",
    "- Operating System: Windows 10\n",
    "\n",
    "I have tried clearing my browser cache and resetting my password, but the issue persists.\n",
    "This is affecting my ability to use your services, and I would appreciate a prompt resolution.\n",
    "\n",
    "Please let me know if you require any additional information to assist with troubleshooting.\n",
    "\n",
    "Thank you,\n",
    "John Doe'''\n",
    ",\n",
    "'''\n",
    "Dear Support Team,\n",
    "I'm conveyed about my bill and have raised this multile times for last 3 months.\n",
    "Please resolve it on priority'''\n",
    "]"
   ]
  },
  {
   "cell_type": "code",
   "execution_count": null,
   "metadata": {
    "id": "ffA5vvsD98eI"
   },
   "outputs": [],
   "source": [
    "user_prompt = '''classify the customer support tickets into broad categories such as 'Technical Issues,' 'Billing Inquiries,' and 'Product Feedback.\n",
    "\n",
    "[Dear Support Team,\n",
    "\n",
    "I hope this message finds you well.\n",
    "I'm experiencing difficulties accessing my account on your platform.\n",
    "When I attempt to log in, I receive an error message stating, \"Invalid Credentials.\"\n",
    "I've double-checked my username and password, and they are correct.\n",
    "\n",
    "Details:\n",
    "- Username: johndoe123\n",
    "- Browser: Google Chrome\n",
    "- Operating System: Windows 10\n",
    "\n",
    "I have tried clearing my browser cache and resetting my password, but the issue persists.\n",
    "This is affecting my ability to use your services, and I would appreciate a prompt resolution.\n",
    "\n",
    "Please let me know if you require any additional information to assist with troubleshooting.\n",
    "\n",
    "Thank you,\n",
    "John Doe\n",
    ",\n",
    "\n",
    "Dear Support Team,\n",
    "I'm conveyed about my bill and have raised this multile times for last 3 months.\n",
    "Please resolve it on priority\n",
    "]'''"
   ]
  },
  {
   "cell_type": "code",
   "execution_count": null,
   "metadata": {
    "colab": {
     "base_uri": "https://localhost:8080/"
    },
    "id": "VwPv2Pbk-Tn6",
    "outputId": "6eb9eb61-1b65-4277-8375-b8636015f27c"
   },
   "outputs": [
    {
     "name": "stdout",
     "output_type": "stream",
     "text": [
      "Category: Billing Inquiries\n"
     ]
    }
   ],
   "source": [
    "print(get_response(user_prompt))"
   ]
  },
  {
   "cell_type": "code",
   "execution_count": null,
   "metadata": {
    "colab": {
     "base_uri": "https://localhost:8080/"
    },
    "id": "7RKHtKjY-j5k",
    "outputId": "5fb2607f-bfa5-46ac-de7d-cca58cb0ee29"
   },
   "outputs": [
    {
     "name": "stdout",
     "output_type": "stream",
     "text": [
      "The first customer support ticket can be classified as a 'Technical Issue' as the customer is experiencing difficulties accessing their account on the platform.\n",
      "\n",
      "The second customer support ticket can be classified as a 'Billing Inquiry' as the customer is concerned about their bill and has raised the issue multiple times.\n"
     ]
    }
   ],
   "source": [
    "user_prompt = '''classify all the customer support tickets within <> into\n",
    "broad categories such as 'Technical Issues,' 'Billing Inquiries,' and 'Product Feedback.\n",
    "\n",
    "<Dear Support Team,\n",
    "\n",
    "I hope this message finds you well.\n",
    "I'm experiencing difficulties accessing my account on your platform.\n",
    "When I attempt to log in, I receive an error message stating, \"Invalid Credentials.\"\n",
    "I've double-checked my username and password, and they are correct.\n",
    "\n",
    "Details:\n",
    "- Username: johndoe123\n",
    "- Browser: Google Chrome\n",
    "- Operating System: Windows 10\n",
    "\n",
    "I have tried clearing my browser cache and resetting my password, but the issue persists.\n",
    "This is affecting my ability to use your services, and I would appreciate a prompt resolution.\n",
    "\n",
    "Please let me know if you require any additional information to assist with troubleshooting.\n",
    "\n",
    "Thank you,\n",
    "John Doe>\n",
    "\n",
    "<Dear Support Team,\n",
    "I'm conveyed about my bill and have raised this multile times for last 3 months. Please resolve it on priority>\n",
    "'''\n",
    "print(get_response(user_prompt))"
   ]
  },
  {
   "cell_type": "markdown",
   "metadata": {
    "id": "_wHDyAUhB9A9"
   },
   "source": [
    "Iterate over multiple tickets"
   ]
  },
  {
   "cell_type": "code",
   "execution_count": null,
   "metadata": {
    "colab": {
     "base_uri": "https://localhost:8080/"
    },
    "id": "Cm54-0_dAKUA",
    "outputId": "7637251a-0d95-4992-fd2e-3f1ac5622550"
   },
   "outputs": [
    {
     "name": "stdout",
     "output_type": "stream",
     "text": [
      "Technical Issues\n",
      "Billing Inquiries\n"
     ]
    }
   ],
   "source": [
    "for customer_support_ticket in customer_support_tickets:\n",
    "\n",
    "  user_prompt = f'''classify the customer support ticket delimited by <> into broad categories\n",
    "  such as Technical Issues, Billing Inquiries, and Product Feedback <{customer_support_ticket}>\n",
    "  '''\n",
    "\n",
    "  print(get_response(user_prompt))"
   ]
  },
  {
   "cell_type": "markdown",
   "metadata": {
    "id": "Io93oIuFZEoG"
   },
   "source": [
    "## Specify Structured Output Formats"
   ]
  },
  {
   "cell_type": "code",
   "execution_count": null,
   "metadata": {
    "colab": {
     "base_uri": "https://localhost:8080/"
    },
    "id": "3jAJ4GBvXxxp",
    "outputId": "9d13fb8c-caf1-4ffc-8812-ea1820a7c192"
   },
   "outputs": [
    {
     "name": "stdout",
     "output_type": "stream",
     "text": [
      "{\n",
      "  \"Username\": \"johndoe123\",\n",
      "  \"Browser\": \"Google Chrome\",\n",
      "  \"Operating System\": \"Windows 10\"\n",
      "}\n"
     ]
    }
   ],
   "source": [
    "user_prompt = f'''\n",
    "Extract JSON information from the customer support ticket.\n",
    "\n",
    "Given the following ticket content:\n",
    "\n",
    "{first_customer_support_ticket}\n",
    "\n",
    "Please provide the JSON representation of essential details such as:\n",
    "- Username\n",
    "- Browser\n",
    "- Operating System\n",
    "\n",
    "Ensure the JSON format includes key-value pairs for each detail.\n",
    "'''\n",
    "print(get_response(user_prompt))"
   ]
  },
  {
   "cell_type": "markdown",
   "metadata": {
    "id": "3NDFTiDiRcbr"
   },
   "source": [
    "#6.Use Temperature Parameter\n",
    "\n",
    "Low Temperature defines the deterministic outputs"
   ]
  },
  {
   "cell_type": "code",
   "execution_count": null,
   "metadata": {
    "colab": {
     "base_uri": "https://localhost:8080/"
    },
    "id": "8iXVcFQly7cf",
    "outputId": "3d4592b6-945e-4c29-880c-6a37f044c225"
   },
   "outputs": [
    {
     "name": "stdout",
     "output_type": "stream",
     "text": [
      "1. DataMaster\n",
      "2. LearnDataSci\n",
      "3. DataSense\n",
      "4. DataPro\n",
      "5. SciLearn\n",
      "6. DataWise\n",
      "7. DataGenius\n",
      "8. SciTechEdu\n",
      "9. DataMinds\n",
      "10. LearnSciData\n"
     ]
    }
   ],
   "source": [
    "user_prompt = \"Generate 10 brand names for e learning in data science.\"\n",
    "print(get_response(user_prompt,0))"
   ]
  },
  {
   "cell_type": "code",
   "execution_count": null,
   "metadata": {
    "colab": {
     "base_uri": "https://localhost:8080/"
    },
    "id": "UF4Ee3fWz8Wy",
    "outputId": "90b64252-d266-4233-e5e0-8ff2e3d6962d"
   },
   "outputs": [
    {
     "name": "stdout",
     "output_type": "stream",
     "text": [
      "1. DataMaster\n",
      "2. LearnDataSci\n",
      "3. DataSense\n",
      "4. DataPro\n",
      "5. SciLearn\n",
      "6. DataWise\n",
      "7. DataGenius\n",
      "8. SciTechEdu\n",
      "9. DataMinds\n",
      "10. LearnSciData\n"
     ]
    }
   ],
   "source": [
    "user_prompt = \"Generate 10 brand names for e learning in data science.\"\n",
    "print(get_response(user_prompt,0))"
   ]
  },
  {
   "cell_type": "markdown",
   "metadata": {
    "id": "43dvAiHA0HF6"
   },
   "source": [
    "High Temperature defines the non-deterministic outputs"
   ]
  },
  {
   "cell_type": "code",
   "execution_count": null,
   "metadata": {
    "colab": {
     "base_uri": "https://localhost:8080/"
    },
    "id": "UvdpMYTkz8ZK",
    "outputId": "46bc3998-162a-411e-93e8-4dea3ac43e55"
   },
   "outputs": [
    {
     "name": "stdout",
     "output_type": "stream",
     "text": [
      "1. Data Pro Learn\n",
      "2. DataWise Academy\n",
      "3. AnalyticaEdu\n",
      "4. SciLearn Hub\n",
      "5. Data Mastery Institute\n",
      "6. CodeLab Learning\n",
      "7. DataInsight Education\n",
      "8. SciData Academy\n",
      "9. LearnData Science\n",
      "10. DataSmart School\n"
     ]
    }
   ],
   "source": [
    "user_prompt = \"Generate 10 brand names for e learning in data science.\"\n",
    "print(get_response(user_prompt,1))"
   ]
  },
  {
   "cell_type": "code",
   "execution_count": null,
   "metadata": {
    "colab": {
     "base_uri": "https://localhost:8080/"
    },
    "id": "4CxV4fpNz8do",
    "outputId": "8732040c-8bc8-4802-96d8-280674c45ec7"
   },
   "outputs": [
    {
     "name": "stdout",
     "output_type": "stream",
     "text": [
      "1. DataMaster\n",
      "2. DataSciLearn\n",
      "3. DataSense\n",
      "4. DataSciSmart\n",
      "5. E-LearnData\n",
      "6. DataWise\n",
      "7. DataTechTutor\n",
      "8. Sci-ED\n",
      "9. DataProSkill\n",
      "10. Learnalytics\n"
     ]
    }
   ],
   "source": [
    "user_prompt = \"Generate 10 brand names for e learning in data science.\"\n",
    "print(get_response(user_prompt,1))"
   ]
  },
  {
   "cell_type": "code",
   "execution_count": null,
   "metadata": {
    "id": "M7W-6jFkz8g_"
   },
   "outputs": [],
   "source": [
    "user_prompt = f'''Compose a customer support response for a ticket where\n",
    "the customer reports a technical issue with a purchased product.\n",
    "\n",
    "Customer Support Ticket:{first_customer_support_ticket}'''\n",
    "\n",
    "print(get_response(user_prompt,0))"
   ]
  },
  {
   "cell_type": "code",
   "execution_count": null,
   "metadata": {
    "id": "SRoVnYItz8lL"
   },
   "outputs": [],
   "source": [
    "user_prompt = f'''Compose a customer support response for a ticket where\n",
    "the customer reports a technical issue with a purchased product.\n",
    "\n",
    "Customer Support Ticket:{first_customer_support_ticket}'''\n",
    "\n",
    "print(get_response(user_prompt,1))"
   ]
  },
  {
   "cell_type": "markdown",
   "metadata": {
    "id": "Xs-lAbElobaS"
   },
   "source": [
    "In summary, keep in mind the following best practices to craft effective prompts\n",
    "\n",
    "1.   Write Clear and Specific Instructions\n",
    "2.   Use Specific Examples\n",
    "3.   Vary the Prompts\n",
    "4.   Use the Delimiters\n",
    "5.   Specify structured output formats\n",
    "6.   Use Temperature Parameter\n",
    "\n",
    "\n"
   ]
  }
 ],
 "metadata": {
  "colab": {
   "provenance": []
  },
  "kernelspec": {
   "display_name": "Python 3 (ipykernel)",
   "language": "python",
   "name": "python3"
  },
  "language_info": {
   "codemirror_mode": {
    "name": "ipython",
    "version": 3
   },
   "file_extension": ".py",
   "mimetype": "text/x-python",
   "name": "python",
   "nbconvert_exporter": "python",
   "pygments_lexer": "ipython3",
   "version": "3.11.7"
  }
 },
 "nbformat": 4,
 "nbformat_minor": 4
}
